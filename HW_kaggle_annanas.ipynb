{
  "nbformat": 4,
  "nbformat_minor": 0,
  "metadata": {
    "colab": {
      "provenance": [],
      "authorship_tag": "ABX9TyPUEwZgxmmBN1JEtWKv1FZP",
      "include_colab_link": true
    },
    "kernelspec": {
      "name": "python3",
      "display_name": "Python 3"
    },
    "language_info": {
      "name": "python"
    }
  },
  "cells": [
    {
      "cell_type": "markdown",
      "metadata": {
        "id": "view-in-github",
        "colab_type": "text"
      },
      "source": [
        "<a href=\"https://colab.research.google.com/github/AnnAnsas/Pet-Project/blob/main/HW_kaggle_annanas.ipynb\" target=\"_parent\"><img src=\"https://colab.research.google.com/assets/colab-badge.svg\" alt=\"Open In Colab\"/></a>"
      ]
    },
    {
      "cell_type": "markdown",
      "source": [
        "# ***Первая часть. Исследование*** "
      ],
      "metadata": {
        "id": "qvdQcIu2MrrX"
      }
    },
    {
      "cell_type": "code",
      "execution_count": null,
      "metadata": {
        "id": "To5lqs-_MgnW"
      },
      "outputs": [],
      "source": [
        "import pandas as pd\n",
        "import numpy as np\n",
        "from matplotlib import pyplot as plt\n",
        "\n",
        "import seaborn as sns\n",
        "from sklearn.metrics import roc_auc_score"
      ]
    },
    {
      "cell_type": "markdown",
      "source": [
        " **Загрузка данных**"
      ],
      "metadata": {
        "id": "d9VYtuz-MwKt"
      }
    },
    {
      "cell_type": "code",
      "source": [
        "!gdown 1ERwQ5odiK1Zvi1LtjpkzCMUswYsAX8_K  # train.csv\n",
        "!gdown 1fGw_-RFwvn_LEdt91Jq-7A-wzG6mmH8r  # test.csv\n",
        "!gdown 199Mt4OYZNaelT83U-HGDsEYs2YcUGQ6y  # submission.csv"
      ],
      "metadata": {
        "colab": {
          "base_uri": "https://localhost:8080/"
        },
        "id": "B7ttf9qnMwb5",
        "outputId": "356fe9a6-ddbd-46e9-f40e-ba22dec72930"
      },
      "execution_count": null,
      "outputs": [
        {
          "output_type": "stream",
          "name": "stdout",
          "text": [
            "Downloading...\n",
            "From: https://drive.google.com/uc?id=1ERwQ5odiK1Zvi1LtjpkzCMUswYsAX8_K\n",
            "To: /content/train.csv\n",
            "100% 664k/664k [00:00<00:00, 94.3MB/s]\n",
            "Downloading...\n",
            "From: https://drive.google.com/uc?id=1fGw_-RFwvn_LEdt91Jq-7A-wzG6mmH8r\n",
            "To: /content/test.csv\n",
            "100% 218k/218k [00:00<00:00, 69.8MB/s]\n",
            "Downloading...\n",
            "From: https://drive.google.com/uc?id=199Mt4OYZNaelT83U-HGDsEYs2YcUGQ6y\n",
            "To: /content/submission.csv\n",
            "100% 14.7k/14.7k [00:00<00:00, 13.6MB/s]\n"
          ]
        }
      ]
    },
    {
      "cell_type": "code",
      "source": [
        "data = pd.read_csv('./train.csv')"
      ],
      "metadata": {
        "id": "vat5o5BLM7ET"
      },
      "execution_count": null,
      "outputs": []
    },
    {
      "cell_type": "code",
      "source": [
        "# Числовые признаки\n",
        "num_cols = [\n",
        "    'ClientPeriod',\n",
        "    'MonthlySpending',\n",
        "    'TotalSpent'\n",
        "]\n",
        "\n",
        "# Категориальные признаки\n",
        "cat_cols = [\n",
        "    'Sex',\n",
        "    'IsSeniorCitizen',\n",
        "    'HasPartner',\n",
        "    'HasChild',\n",
        "    'HasPhoneService',\n",
        "    'HasMultiplePhoneNumbers',\n",
        "    'HasInternetService',\n",
        "    'HasOnlineSecurityService',\n",
        "    'HasOnlineBackup',\n",
        "    'HasDeviceProtection',\n",
        "    'HasTechSupportAccess',\n",
        "    'HasOnlineTV',\n",
        "    'HasMovieSubscription',\n",
        "    'HasContractPhone',\n",
        "    'IsBillingPaperless',\n",
        "    'PaymentMethod'\n",
        "]\n",
        "\n",
        "feature_cols = num_cols + cat_cols\n",
        "target_col = 'Churn'"
      ],
      "metadata": {
        "id": "uu9cxRjeM9j7"
      },
      "execution_count": null,
      "outputs": []
    },
    {
      "cell_type": "code",
      "source": [
        "data.head()"
      ],
      "metadata": {
        "colab": {
          "base_uri": "https://localhost:8080/",
          "height": 339
        },
        "id": "fpentg31NRvi",
        "outputId": "b257c793-7a1a-42ff-e541-9efc151f9d4a"
      },
      "execution_count": null,
      "outputs": [
        {
          "output_type": "execute_result",
          "data": {
            "text/plain": [
              "   ClientPeriod  MonthlySpending TotalSpent     Sex  IsSeniorCitizen  \\\n",
              "0            55            19.50    1026.35    Male                0   \n",
              "1            72            25.85     1872.2    Male                0   \n",
              "2             1            75.90       75.9    Male                0   \n",
              "3            32            79.30       2570  Female                1   \n",
              "4            60           115.25    6758.45  Female                0   \n",
              "\n",
              "  HasPartner HasChild HasPhoneService HasMultiplePhoneNumbers  \\\n",
              "0        Yes      Yes             Yes                      No   \n",
              "1        Yes       No             Yes                     Yes   \n",
              "2         No       No             Yes                      No   \n",
              "3        Yes       No             Yes                     Yes   \n",
              "4        Yes      Yes             Yes                     Yes   \n",
              "\n",
              "  HasInternetService HasOnlineSecurityService      HasOnlineBackup  \\\n",
              "0                 No      No internet service  No internet service   \n",
              "1                 No      No internet service  No internet service   \n",
              "2        Fiber optic                       No                   No   \n",
              "3        Fiber optic                       No                   No   \n",
              "4        Fiber optic                      Yes                  Yes   \n",
              "\n",
              "   HasDeviceProtection HasTechSupportAccess          HasOnlineTV  \\\n",
              "0  No internet service  No internet service  No internet service   \n",
              "1  No internet service  No internet service  No internet service   \n",
              "2                   No                  Yes                   No   \n",
              "3                  Yes                   No                   No   \n",
              "4                  Yes                  Yes                  Yes   \n",
              "\n",
              "  HasMovieSubscription HasContractPhone IsBillingPaperless  \\\n",
              "0  No internet service         One year                 No   \n",
              "1  No internet service         Two year                 No   \n",
              "2                   No   Month-to-month                Yes   \n",
              "3                   No   Month-to-month                 No   \n",
              "4                  Yes         Two year                 No   \n",
              "\n",
              "             PaymentMethod  Churn  \n",
              "0             Mailed check      0  \n",
              "1  Credit card (automatic)      0  \n",
              "2         Electronic check      1  \n",
              "3             Mailed check      0  \n",
              "4  Credit card (automatic)      0  "
            ],
            "text/html": [
              "\n",
              "  <div id=\"df-1a49af0d-1106-4195-a06d-7f585db115c8\">\n",
              "    <div class=\"colab-df-container\">\n",
              "      <div>\n",
              "<style scoped>\n",
              "    .dataframe tbody tr th:only-of-type {\n",
              "        vertical-align: middle;\n",
              "    }\n",
              "\n",
              "    .dataframe tbody tr th {\n",
              "        vertical-align: top;\n",
              "    }\n",
              "\n",
              "    .dataframe thead th {\n",
              "        text-align: right;\n",
              "    }\n",
              "</style>\n",
              "<table border=\"1\" class=\"dataframe\">\n",
              "  <thead>\n",
              "    <tr style=\"text-align: right;\">\n",
              "      <th></th>\n",
              "      <th>ClientPeriod</th>\n",
              "      <th>MonthlySpending</th>\n",
              "      <th>TotalSpent</th>\n",
              "      <th>Sex</th>\n",
              "      <th>IsSeniorCitizen</th>\n",
              "      <th>HasPartner</th>\n",
              "      <th>HasChild</th>\n",
              "      <th>HasPhoneService</th>\n",
              "      <th>HasMultiplePhoneNumbers</th>\n",
              "      <th>HasInternetService</th>\n",
              "      <th>HasOnlineSecurityService</th>\n",
              "      <th>HasOnlineBackup</th>\n",
              "      <th>HasDeviceProtection</th>\n",
              "      <th>HasTechSupportAccess</th>\n",
              "      <th>HasOnlineTV</th>\n",
              "      <th>HasMovieSubscription</th>\n",
              "      <th>HasContractPhone</th>\n",
              "      <th>IsBillingPaperless</th>\n",
              "      <th>PaymentMethod</th>\n",
              "      <th>Churn</th>\n",
              "    </tr>\n",
              "  </thead>\n",
              "  <tbody>\n",
              "    <tr>\n",
              "      <th>0</th>\n",
              "      <td>55</td>\n",
              "      <td>19.50</td>\n",
              "      <td>1026.35</td>\n",
              "      <td>Male</td>\n",
              "      <td>0</td>\n",
              "      <td>Yes</td>\n",
              "      <td>Yes</td>\n",
              "      <td>Yes</td>\n",
              "      <td>No</td>\n",
              "      <td>No</td>\n",
              "      <td>No internet service</td>\n",
              "      <td>No internet service</td>\n",
              "      <td>No internet service</td>\n",
              "      <td>No internet service</td>\n",
              "      <td>No internet service</td>\n",
              "      <td>No internet service</td>\n",
              "      <td>One year</td>\n",
              "      <td>No</td>\n",
              "      <td>Mailed check</td>\n",
              "      <td>0</td>\n",
              "    </tr>\n",
              "    <tr>\n",
              "      <th>1</th>\n",
              "      <td>72</td>\n",
              "      <td>25.85</td>\n",
              "      <td>1872.2</td>\n",
              "      <td>Male</td>\n",
              "      <td>0</td>\n",
              "      <td>Yes</td>\n",
              "      <td>No</td>\n",
              "      <td>Yes</td>\n",
              "      <td>Yes</td>\n",
              "      <td>No</td>\n",
              "      <td>No internet service</td>\n",
              "      <td>No internet service</td>\n",
              "      <td>No internet service</td>\n",
              "      <td>No internet service</td>\n",
              "      <td>No internet service</td>\n",
              "      <td>No internet service</td>\n",
              "      <td>Two year</td>\n",
              "      <td>No</td>\n",
              "      <td>Credit card (automatic)</td>\n",
              "      <td>0</td>\n",
              "    </tr>\n",
              "    <tr>\n",
              "      <th>2</th>\n",
              "      <td>1</td>\n",
              "      <td>75.90</td>\n",
              "      <td>75.9</td>\n",
              "      <td>Male</td>\n",
              "      <td>0</td>\n",
              "      <td>No</td>\n",
              "      <td>No</td>\n",
              "      <td>Yes</td>\n",
              "      <td>No</td>\n",
              "      <td>Fiber optic</td>\n",
              "      <td>No</td>\n",
              "      <td>No</td>\n",
              "      <td>No</td>\n",
              "      <td>Yes</td>\n",
              "      <td>No</td>\n",
              "      <td>No</td>\n",
              "      <td>Month-to-month</td>\n",
              "      <td>Yes</td>\n",
              "      <td>Electronic check</td>\n",
              "      <td>1</td>\n",
              "    </tr>\n",
              "    <tr>\n",
              "      <th>3</th>\n",
              "      <td>32</td>\n",
              "      <td>79.30</td>\n",
              "      <td>2570</td>\n",
              "      <td>Female</td>\n",
              "      <td>1</td>\n",
              "      <td>Yes</td>\n",
              "      <td>No</td>\n",
              "      <td>Yes</td>\n",
              "      <td>Yes</td>\n",
              "      <td>Fiber optic</td>\n",
              "      <td>No</td>\n",
              "      <td>No</td>\n",
              "      <td>Yes</td>\n",
              "      <td>No</td>\n",
              "      <td>No</td>\n",
              "      <td>No</td>\n",
              "      <td>Month-to-month</td>\n",
              "      <td>No</td>\n",
              "      <td>Mailed check</td>\n",
              "      <td>0</td>\n",
              "    </tr>\n",
              "    <tr>\n",
              "      <th>4</th>\n",
              "      <td>60</td>\n",
              "      <td>115.25</td>\n",
              "      <td>6758.45</td>\n",
              "      <td>Female</td>\n",
              "      <td>0</td>\n",
              "      <td>Yes</td>\n",
              "      <td>Yes</td>\n",
              "      <td>Yes</td>\n",
              "      <td>Yes</td>\n",
              "      <td>Fiber optic</td>\n",
              "      <td>Yes</td>\n",
              "      <td>Yes</td>\n",
              "      <td>Yes</td>\n",
              "      <td>Yes</td>\n",
              "      <td>Yes</td>\n",
              "      <td>Yes</td>\n",
              "      <td>Two year</td>\n",
              "      <td>No</td>\n",
              "      <td>Credit card (automatic)</td>\n",
              "      <td>0</td>\n",
              "    </tr>\n",
              "  </tbody>\n",
              "</table>\n",
              "</div>\n",
              "      <button class=\"colab-df-convert\" onclick=\"convertToInteractive('df-1a49af0d-1106-4195-a06d-7f585db115c8')\"\n",
              "              title=\"Convert this dataframe to an interactive table.\"\n",
              "              style=\"display:none;\">\n",
              "        \n",
              "  <svg xmlns=\"http://www.w3.org/2000/svg\" height=\"24px\"viewBox=\"0 0 24 24\"\n",
              "       width=\"24px\">\n",
              "    <path d=\"M0 0h24v24H0V0z\" fill=\"none\"/>\n",
              "    <path d=\"M18.56 5.44l.94 2.06.94-2.06 2.06-.94-2.06-.94-.94-2.06-.94 2.06-2.06.94zm-11 1L8.5 8.5l.94-2.06 2.06-.94-2.06-.94L8.5 2.5l-.94 2.06-2.06.94zm10 10l.94 2.06.94-2.06 2.06-.94-2.06-.94-.94-2.06-.94 2.06-2.06.94z\"/><path d=\"M17.41 7.96l-1.37-1.37c-.4-.4-.92-.59-1.43-.59-.52 0-1.04.2-1.43.59L10.3 9.45l-7.72 7.72c-.78.78-.78 2.05 0 2.83L4 21.41c.39.39.9.59 1.41.59.51 0 1.02-.2 1.41-.59l7.78-7.78 2.81-2.81c.8-.78.8-2.07 0-2.86zM5.41 20L4 18.59l7.72-7.72 1.47 1.35L5.41 20z\"/>\n",
              "  </svg>\n",
              "      </button>\n",
              "      \n",
              "  <style>\n",
              "    .colab-df-container {\n",
              "      display:flex;\n",
              "      flex-wrap:wrap;\n",
              "      gap: 12px;\n",
              "    }\n",
              "\n",
              "    .colab-df-convert {\n",
              "      background-color: #E8F0FE;\n",
              "      border: none;\n",
              "      border-radius: 50%;\n",
              "      cursor: pointer;\n",
              "      display: none;\n",
              "      fill: #1967D2;\n",
              "      height: 32px;\n",
              "      padding: 0 0 0 0;\n",
              "      width: 32px;\n",
              "    }\n",
              "\n",
              "    .colab-df-convert:hover {\n",
              "      background-color: #E2EBFA;\n",
              "      box-shadow: 0px 1px 2px rgba(60, 64, 67, 0.3), 0px 1px 3px 1px rgba(60, 64, 67, 0.15);\n",
              "      fill: #174EA6;\n",
              "    }\n",
              "\n",
              "    [theme=dark] .colab-df-convert {\n",
              "      background-color: #3B4455;\n",
              "      fill: #D2E3FC;\n",
              "    }\n",
              "\n",
              "    [theme=dark] .colab-df-convert:hover {\n",
              "      background-color: #434B5C;\n",
              "      box-shadow: 0px 1px 3px 1px rgba(0, 0, 0, 0.15);\n",
              "      filter: drop-shadow(0px 1px 2px rgba(0, 0, 0, 0.3));\n",
              "      fill: #FFFFFF;\n",
              "    }\n",
              "  </style>\n",
              "\n",
              "      <script>\n",
              "        const buttonEl =\n",
              "          document.querySelector('#df-1a49af0d-1106-4195-a06d-7f585db115c8 button.colab-df-convert');\n",
              "        buttonEl.style.display =\n",
              "          google.colab.kernel.accessAllowed ? 'block' : 'none';\n",
              "\n",
              "        async function convertToInteractive(key) {\n",
              "          const element = document.querySelector('#df-1a49af0d-1106-4195-a06d-7f585db115c8');\n",
              "          const dataTable =\n",
              "            await google.colab.kernel.invokeFunction('convertToInteractive',\n",
              "                                                     [key], {});\n",
              "          if (!dataTable) return;\n",
              "\n",
              "          const docLinkHtml = 'Like what you see? Visit the ' +\n",
              "            '<a target=\"_blank\" href=https://colab.research.google.com/notebooks/data_table.ipynb>data table notebook</a>'\n",
              "            + ' to learn more about interactive tables.';\n",
              "          element.innerHTML = '';\n",
              "          dataTable['output_type'] = 'display_data';\n",
              "          await google.colab.output.renderOutput(dataTable, element);\n",
              "          const docLink = document.createElement('div');\n",
              "          docLink.innerHTML = docLinkHtml;\n",
              "          element.appendChild(docLink);\n",
              "        }\n",
              "      </script>\n",
              "    </div>\n",
              "  </div>\n",
              "  "
            ]
          },
          "metadata": {},
          "execution_count": 5
        }
      ]
    },
    {
      "cell_type": "code",
      "source": [
        "data.info()"
      ],
      "metadata": {
        "colab": {
          "base_uri": "https://localhost:8080/"
        },
        "id": "KY2wwegYNcz9",
        "outputId": "19947df5-1032-4abc-c275-fb0228cd9d3d"
      },
      "execution_count": null,
      "outputs": [
        {
          "output_type": "stream",
          "name": "stdout",
          "text": [
            "<class 'pandas.core.frame.DataFrame'>\n",
            "RangeIndex: 5282 entries, 0 to 5281\n",
            "Data columns (total 20 columns):\n",
            " #   Column                    Non-Null Count  Dtype  \n",
            "---  ------                    --------------  -----  \n",
            " 0   ClientPeriod              5282 non-null   int64  \n",
            " 1   MonthlySpending           5282 non-null   float64\n",
            " 2   TotalSpent                5282 non-null   object \n",
            " 3   Sex                       5282 non-null   object \n",
            " 4   IsSeniorCitizen           5282 non-null   int64  \n",
            " 5   HasPartner                5282 non-null   object \n",
            " 6   HasChild                  5282 non-null   object \n",
            " 7   HasPhoneService           5282 non-null   object \n",
            " 8   HasMultiplePhoneNumbers   5282 non-null   object \n",
            " 9   HasInternetService        5282 non-null   object \n",
            " 10  HasOnlineSecurityService  5282 non-null   object \n",
            " 11  HasOnlineBackup           5282 non-null   object \n",
            " 12  HasDeviceProtection       5282 non-null   object \n",
            " 13  HasTechSupportAccess      5282 non-null   object \n",
            " 14  HasOnlineTV               5282 non-null   object \n",
            " 15  HasMovieSubscription      5282 non-null   object \n",
            " 16  HasContractPhone          5282 non-null   object \n",
            " 17  IsBillingPaperless        5282 non-null   object \n",
            " 18  PaymentMethod             5282 non-null   object \n",
            " 19  Churn                     5282 non-null   int64  \n",
            "dtypes: float64(1), int64(3), object(16)\n",
            "memory usage: 825.4+ KB\n"
          ]
        }
      ]
    },
    {
      "cell_type": "markdown",
      "source": [
        "'TotalSpent' имеет тип 'object', но подразумевается тип 'float64'. Выполню преобразование"
      ],
      "metadata": {
        "id": "cSxbfkDuNgID"
      }
    },
    {
      "cell_type": "code",
      "source": [
        "data['TotalSpent'] = pd.to_numeric(data.TotalSpent.str.strip())"
      ],
      "metadata": {
        "id": "QNWu-kF4N2uf"
      },
      "execution_count": null,
      "outputs": []
    },
    {
      "cell_type": "code",
      "source": [
        "data.isna().sum()"
      ],
      "metadata": {
        "colab": {
          "base_uri": "https://localhost:8080/"
        },
        "id": "4fMOEnCXN5CE",
        "outputId": "04de2730-8c93-4faa-bc6f-7ed2079f8fa2"
      },
      "execution_count": null,
      "outputs": [
        {
          "output_type": "execute_result",
          "data": {
            "text/plain": [
              "ClientPeriod                0\n",
              "MonthlySpending             0\n",
              "TotalSpent                  9\n",
              "Sex                         0\n",
              "IsSeniorCitizen             0\n",
              "HasPartner                  0\n",
              "HasChild                    0\n",
              "HasPhoneService             0\n",
              "HasMultiplePhoneNumbers     0\n",
              "HasInternetService          0\n",
              "HasOnlineSecurityService    0\n",
              "HasOnlineBackup             0\n",
              "HasDeviceProtection         0\n",
              "HasTechSupportAccess        0\n",
              "HasOnlineTV                 0\n",
              "HasMovieSubscription        0\n",
              "HasContractPhone            0\n",
              "IsBillingPaperless          0\n",
              "PaymentMethod               0\n",
              "Churn                       0\n",
              "dtype: int64"
            ]
          },
          "metadata": {},
          "execution_count": 8
        }
      ]
    },
    {
      "cell_type": "markdown",
      "source": [
        "Исследую пропуски"
      ],
      "metadata": {
        "id": "6KcHVTZfN_Me"
      }
    },
    {
      "cell_type": "code",
      "source": [
        "data[data['TotalSpent'].isna()]"
      ],
      "metadata": {
        "colab": {
          "base_uri": "https://localhost:8080/",
          "height": 517
        },
        "id": "NOeuiuBsOBnY",
        "outputId": "78c92380-4e06-4416-e45e-263d84627052"
      },
      "execution_count": null,
      "outputs": [
        {
          "output_type": "execute_result",
          "data": {
            "text/plain": [
              "      ClientPeriod  MonthlySpending  TotalSpent     Sex  IsSeniorCitizen  \\\n",
              "1048             0            25.75         NaN    Male                0   \n",
              "1707             0            73.35         NaN  Female                0   \n",
              "2543             0            19.70         NaN    Male                0   \n",
              "3078             0            80.85         NaN  Female                0   \n",
              "3697             0            20.00         NaN  Female                0   \n",
              "4002             0            61.90         NaN    Male                0   \n",
              "4326             0            25.35         NaN    Male                0   \n",
              "4551             0            52.55         NaN  Female                0   \n",
              "4598             0            56.05         NaN  Female                0   \n",
              "\n",
              "     HasPartner HasChild HasPhoneService HasMultiplePhoneNumbers  \\\n",
              "1048        Yes      Yes             Yes                     Yes   \n",
              "1707        Yes      Yes             Yes                     Yes   \n",
              "2543        Yes      Yes             Yes                      No   \n",
              "3078        Yes      Yes             Yes                      No   \n",
              "3697        Yes      Yes             Yes                      No   \n",
              "4002         No      Yes             Yes                     Yes   \n",
              "4326        Yes      Yes             Yes                     Yes   \n",
              "4551        Yes      Yes              No        No phone service   \n",
              "4598        Yes      Yes              No        No phone service   \n",
              "\n",
              "     HasInternetService HasOnlineSecurityService      HasOnlineBackup  \\\n",
              "1048                 No      No internet service  No internet service   \n",
              "1707                DSL                       No                  Yes   \n",
              "2543                 No      No internet service  No internet service   \n",
              "3078                DSL                      Yes                  Yes   \n",
              "3697                 No      No internet service  No internet service   \n",
              "4002                DSL                      Yes                  Yes   \n",
              "4326                 No      No internet service  No internet service   \n",
              "4551                DSL                      Yes                   No   \n",
              "4598                DSL                      Yes                  Yes   \n",
              "\n",
              "      HasDeviceProtection HasTechSupportAccess          HasOnlineTV  \\\n",
              "1048  No internet service  No internet service  No internet service   \n",
              "1707                  Yes                  Yes                  Yes   \n",
              "2543  No internet service  No internet service  No internet service   \n",
              "3078                  Yes                   No                  Yes   \n",
              "3697  No internet service  No internet service  No internet service   \n",
              "4002                   No                  Yes                   No   \n",
              "4326  No internet service  No internet service  No internet service   \n",
              "4551                  Yes                  Yes                  Yes   \n",
              "4598                  Yes                  Yes                  Yes   \n",
              "\n",
              "     HasMovieSubscription HasContractPhone IsBillingPaperless  \\\n",
              "1048  No internet service         Two year                 No   \n",
              "1707                   No         Two year                 No   \n",
              "2543  No internet service         One year                Yes   \n",
              "3078                  Yes         Two year                 No   \n",
              "3697  No internet service         Two year                 No   \n",
              "4002                   No         Two year                Yes   \n",
              "4326  No internet service         Two year                 No   \n",
              "4551                   No         Two year                Yes   \n",
              "4598                   No         Two year                 No   \n",
              "\n",
              "                  PaymentMethod  Churn  \n",
              "1048               Mailed check      0  \n",
              "1707               Mailed check      0  \n",
              "2543               Mailed check      0  \n",
              "3078               Mailed check      0  \n",
              "3697               Mailed check      0  \n",
              "4002  Bank transfer (automatic)      0  \n",
              "4326               Mailed check      0  \n",
              "4551  Bank transfer (automatic)      0  \n",
              "4598    Credit card (automatic)      0  "
            ],
            "text/html": [
              "\n",
              "  <div id=\"df-558b011a-bdfc-4e0f-a266-cf14a27671fc\">\n",
              "    <div class=\"colab-df-container\">\n",
              "      <div>\n",
              "<style scoped>\n",
              "    .dataframe tbody tr th:only-of-type {\n",
              "        vertical-align: middle;\n",
              "    }\n",
              "\n",
              "    .dataframe tbody tr th {\n",
              "        vertical-align: top;\n",
              "    }\n",
              "\n",
              "    .dataframe thead th {\n",
              "        text-align: right;\n",
              "    }\n",
              "</style>\n",
              "<table border=\"1\" class=\"dataframe\">\n",
              "  <thead>\n",
              "    <tr style=\"text-align: right;\">\n",
              "      <th></th>\n",
              "      <th>ClientPeriod</th>\n",
              "      <th>MonthlySpending</th>\n",
              "      <th>TotalSpent</th>\n",
              "      <th>Sex</th>\n",
              "      <th>IsSeniorCitizen</th>\n",
              "      <th>HasPartner</th>\n",
              "      <th>HasChild</th>\n",
              "      <th>HasPhoneService</th>\n",
              "      <th>HasMultiplePhoneNumbers</th>\n",
              "      <th>HasInternetService</th>\n",
              "      <th>HasOnlineSecurityService</th>\n",
              "      <th>HasOnlineBackup</th>\n",
              "      <th>HasDeviceProtection</th>\n",
              "      <th>HasTechSupportAccess</th>\n",
              "      <th>HasOnlineTV</th>\n",
              "      <th>HasMovieSubscription</th>\n",
              "      <th>HasContractPhone</th>\n",
              "      <th>IsBillingPaperless</th>\n",
              "      <th>PaymentMethod</th>\n",
              "      <th>Churn</th>\n",
              "    </tr>\n",
              "  </thead>\n",
              "  <tbody>\n",
              "    <tr>\n",
              "      <th>1048</th>\n",
              "      <td>0</td>\n",
              "      <td>25.75</td>\n",
              "      <td>NaN</td>\n",
              "      <td>Male</td>\n",
              "      <td>0</td>\n",
              "      <td>Yes</td>\n",
              "      <td>Yes</td>\n",
              "      <td>Yes</td>\n",
              "      <td>Yes</td>\n",
              "      <td>No</td>\n",
              "      <td>No internet service</td>\n",
              "      <td>No internet service</td>\n",
              "      <td>No internet service</td>\n",
              "      <td>No internet service</td>\n",
              "      <td>No internet service</td>\n",
              "      <td>No internet service</td>\n",
              "      <td>Two year</td>\n",
              "      <td>No</td>\n",
              "      <td>Mailed check</td>\n",
              "      <td>0</td>\n",
              "    </tr>\n",
              "    <tr>\n",
              "      <th>1707</th>\n",
              "      <td>0</td>\n",
              "      <td>73.35</td>\n",
              "      <td>NaN</td>\n",
              "      <td>Female</td>\n",
              "      <td>0</td>\n",
              "      <td>Yes</td>\n",
              "      <td>Yes</td>\n",
              "      <td>Yes</td>\n",
              "      <td>Yes</td>\n",
              "      <td>DSL</td>\n",
              "      <td>No</td>\n",
              "      <td>Yes</td>\n",
              "      <td>Yes</td>\n",
              "      <td>Yes</td>\n",
              "      <td>Yes</td>\n",
              "      <td>No</td>\n",
              "      <td>Two year</td>\n",
              "      <td>No</td>\n",
              "      <td>Mailed check</td>\n",
              "      <td>0</td>\n",
              "    </tr>\n",
              "    <tr>\n",
              "      <th>2543</th>\n",
              "      <td>0</td>\n",
              "      <td>19.70</td>\n",
              "      <td>NaN</td>\n",
              "      <td>Male</td>\n",
              "      <td>0</td>\n",
              "      <td>Yes</td>\n",
              "      <td>Yes</td>\n",
              "      <td>Yes</td>\n",
              "      <td>No</td>\n",
              "      <td>No</td>\n",
              "      <td>No internet service</td>\n",
              "      <td>No internet service</td>\n",
              "      <td>No internet service</td>\n",
              "      <td>No internet service</td>\n",
              "      <td>No internet service</td>\n",
              "      <td>No internet service</td>\n",
              "      <td>One year</td>\n",
              "      <td>Yes</td>\n",
              "      <td>Mailed check</td>\n",
              "      <td>0</td>\n",
              "    </tr>\n",
              "    <tr>\n",
              "      <th>3078</th>\n",
              "      <td>0</td>\n",
              "      <td>80.85</td>\n",
              "      <td>NaN</td>\n",
              "      <td>Female</td>\n",
              "      <td>0</td>\n",
              "      <td>Yes</td>\n",
              "      <td>Yes</td>\n",
              "      <td>Yes</td>\n",
              "      <td>No</td>\n",
              "      <td>DSL</td>\n",
              "      <td>Yes</td>\n",
              "      <td>Yes</td>\n",
              "      <td>Yes</td>\n",
              "      <td>No</td>\n",
              "      <td>Yes</td>\n",
              "      <td>Yes</td>\n",
              "      <td>Two year</td>\n",
              "      <td>No</td>\n",
              "      <td>Mailed check</td>\n",
              "      <td>0</td>\n",
              "    </tr>\n",
              "    <tr>\n",
              "      <th>3697</th>\n",
              "      <td>0</td>\n",
              "      <td>20.00</td>\n",
              "      <td>NaN</td>\n",
              "      <td>Female</td>\n",
              "      <td>0</td>\n",
              "      <td>Yes</td>\n",
              "      <td>Yes</td>\n",
              "      <td>Yes</td>\n",
              "      <td>No</td>\n",
              "      <td>No</td>\n",
              "      <td>No internet service</td>\n",
              "      <td>No internet service</td>\n",
              "      <td>No internet service</td>\n",
              "      <td>No internet service</td>\n",
              "      <td>No internet service</td>\n",
              "      <td>No internet service</td>\n",
              "      <td>Two year</td>\n",
              "      <td>No</td>\n",
              "      <td>Mailed check</td>\n",
              "      <td>0</td>\n",
              "    </tr>\n",
              "    <tr>\n",
              "      <th>4002</th>\n",
              "      <td>0</td>\n",
              "      <td>61.90</td>\n",
              "      <td>NaN</td>\n",
              "      <td>Male</td>\n",
              "      <td>0</td>\n",
              "      <td>No</td>\n",
              "      <td>Yes</td>\n",
              "      <td>Yes</td>\n",
              "      <td>Yes</td>\n",
              "      <td>DSL</td>\n",
              "      <td>Yes</td>\n",
              "      <td>Yes</td>\n",
              "      <td>No</td>\n",
              "      <td>Yes</td>\n",
              "      <td>No</td>\n",
              "      <td>No</td>\n",
              "      <td>Two year</td>\n",
              "      <td>Yes</td>\n",
              "      <td>Bank transfer (automatic)</td>\n",
              "      <td>0</td>\n",
              "    </tr>\n",
              "    <tr>\n",
              "      <th>4326</th>\n",
              "      <td>0</td>\n",
              "      <td>25.35</td>\n",
              "      <td>NaN</td>\n",
              "      <td>Male</td>\n",
              "      <td>0</td>\n",
              "      <td>Yes</td>\n",
              "      <td>Yes</td>\n",
              "      <td>Yes</td>\n",
              "      <td>Yes</td>\n",
              "      <td>No</td>\n",
              "      <td>No internet service</td>\n",
              "      <td>No internet service</td>\n",
              "      <td>No internet service</td>\n",
              "      <td>No internet service</td>\n",
              "      <td>No internet service</td>\n",
              "      <td>No internet service</td>\n",
              "      <td>Two year</td>\n",
              "      <td>No</td>\n",
              "      <td>Mailed check</td>\n",
              "      <td>0</td>\n",
              "    </tr>\n",
              "    <tr>\n",
              "      <th>4551</th>\n",
              "      <td>0</td>\n",
              "      <td>52.55</td>\n",
              "      <td>NaN</td>\n",
              "      <td>Female</td>\n",
              "      <td>0</td>\n",
              "      <td>Yes</td>\n",
              "      <td>Yes</td>\n",
              "      <td>No</td>\n",
              "      <td>No phone service</td>\n",
              "      <td>DSL</td>\n",
              "      <td>Yes</td>\n",
              "      <td>No</td>\n",
              "      <td>Yes</td>\n",
              "      <td>Yes</td>\n",
              "      <td>Yes</td>\n",
              "      <td>No</td>\n",
              "      <td>Two year</td>\n",
              "      <td>Yes</td>\n",
              "      <td>Bank transfer (automatic)</td>\n",
              "      <td>0</td>\n",
              "    </tr>\n",
              "    <tr>\n",
              "      <th>4598</th>\n",
              "      <td>0</td>\n",
              "      <td>56.05</td>\n",
              "      <td>NaN</td>\n",
              "      <td>Female</td>\n",
              "      <td>0</td>\n",
              "      <td>Yes</td>\n",
              "      <td>Yes</td>\n",
              "      <td>No</td>\n",
              "      <td>No phone service</td>\n",
              "      <td>DSL</td>\n",
              "      <td>Yes</td>\n",
              "      <td>Yes</td>\n",
              "      <td>Yes</td>\n",
              "      <td>Yes</td>\n",
              "      <td>Yes</td>\n",
              "      <td>No</td>\n",
              "      <td>Two year</td>\n",
              "      <td>No</td>\n",
              "      <td>Credit card (automatic)</td>\n",
              "      <td>0</td>\n",
              "    </tr>\n",
              "  </tbody>\n",
              "</table>\n",
              "</div>\n",
              "      <button class=\"colab-df-convert\" onclick=\"convertToInteractive('df-558b011a-bdfc-4e0f-a266-cf14a27671fc')\"\n",
              "              title=\"Convert this dataframe to an interactive table.\"\n",
              "              style=\"display:none;\">\n",
              "        \n",
              "  <svg xmlns=\"http://www.w3.org/2000/svg\" height=\"24px\"viewBox=\"0 0 24 24\"\n",
              "       width=\"24px\">\n",
              "    <path d=\"M0 0h24v24H0V0z\" fill=\"none\"/>\n",
              "    <path d=\"M18.56 5.44l.94 2.06.94-2.06 2.06-.94-2.06-.94-.94-2.06-.94 2.06-2.06.94zm-11 1L8.5 8.5l.94-2.06 2.06-.94-2.06-.94L8.5 2.5l-.94 2.06-2.06.94zm10 10l.94 2.06.94-2.06 2.06-.94-2.06-.94-.94-2.06-.94 2.06-2.06.94z\"/><path d=\"M17.41 7.96l-1.37-1.37c-.4-.4-.92-.59-1.43-.59-.52 0-1.04.2-1.43.59L10.3 9.45l-7.72 7.72c-.78.78-.78 2.05 0 2.83L4 21.41c.39.39.9.59 1.41.59.51 0 1.02-.2 1.41-.59l7.78-7.78 2.81-2.81c.8-.78.8-2.07 0-2.86zM5.41 20L4 18.59l7.72-7.72 1.47 1.35L5.41 20z\"/>\n",
              "  </svg>\n",
              "      </button>\n",
              "      \n",
              "  <style>\n",
              "    .colab-df-container {\n",
              "      display:flex;\n",
              "      flex-wrap:wrap;\n",
              "      gap: 12px;\n",
              "    }\n",
              "\n",
              "    .colab-df-convert {\n",
              "      background-color: #E8F0FE;\n",
              "      border: none;\n",
              "      border-radius: 50%;\n",
              "      cursor: pointer;\n",
              "      display: none;\n",
              "      fill: #1967D2;\n",
              "      height: 32px;\n",
              "      padding: 0 0 0 0;\n",
              "      width: 32px;\n",
              "    }\n",
              "\n",
              "    .colab-df-convert:hover {\n",
              "      background-color: #E2EBFA;\n",
              "      box-shadow: 0px 1px 2px rgba(60, 64, 67, 0.3), 0px 1px 3px 1px rgba(60, 64, 67, 0.15);\n",
              "      fill: #174EA6;\n",
              "    }\n",
              "\n",
              "    [theme=dark] .colab-df-convert {\n",
              "      background-color: #3B4455;\n",
              "      fill: #D2E3FC;\n",
              "    }\n",
              "\n",
              "    [theme=dark] .colab-df-convert:hover {\n",
              "      background-color: #434B5C;\n",
              "      box-shadow: 0px 1px 3px 1px rgba(0, 0, 0, 0.15);\n",
              "      filter: drop-shadow(0px 1px 2px rgba(0, 0, 0, 0.3));\n",
              "      fill: #FFFFFF;\n",
              "    }\n",
              "  </style>\n",
              "\n",
              "      <script>\n",
              "        const buttonEl =\n",
              "          document.querySelector('#df-558b011a-bdfc-4e0f-a266-cf14a27671fc button.colab-df-convert');\n",
              "        buttonEl.style.display =\n",
              "          google.colab.kernel.accessAllowed ? 'block' : 'none';\n",
              "\n",
              "        async function convertToInteractive(key) {\n",
              "          const element = document.querySelector('#df-558b011a-bdfc-4e0f-a266-cf14a27671fc');\n",
              "          const dataTable =\n",
              "            await google.colab.kernel.invokeFunction('convertToInteractive',\n",
              "                                                     [key], {});\n",
              "          if (!dataTable) return;\n",
              "\n",
              "          const docLinkHtml = 'Like what you see? Visit the ' +\n",
              "            '<a target=\"_blank\" href=https://colab.research.google.com/notebooks/data_table.ipynb>data table notebook</a>'\n",
              "            + ' to learn more about interactive tables.';\n",
              "          element.innerHTML = '';\n",
              "          dataTable['output_type'] = 'display_data';\n",
              "          await google.colab.output.renderOutput(dataTable, element);\n",
              "          const docLink = document.createElement('div');\n",
              "          docLink.innerHTML = docLinkHtml;\n",
              "          element.appendChild(docLink);\n",
              "        }\n",
              "      </script>\n",
              "    </div>\n",
              "  </div>\n",
              "  "
            ]
          },
          "metadata": {},
          "execution_count": 9
        }
      ]
    },
    {
      "cell_type": "markdown",
      "source": [
        "Выше приведены данные новых клиентов. Их можно выкинуть, но я, пожалуй, заменю пропуски на значения 'MonthlySpending'"
      ],
      "metadata": {
        "id": "4TtnnHWwOKET"
      }
    },
    {
      "cell_type": "code",
      "source": [
        "data.loc[data['TotalSpent'].isna(), 'TotalSpent'] = data.loc[data['TotalSpent'].isna(), 'MonthlySpending']"
      ],
      "metadata": {
        "id": "U_4yEishOaFJ"
      },
      "execution_count": null,
      "outputs": []
    },
    {
      "cell_type": "markdown",
      "source": [
        "Проверю данные на дупликаты, в том числе без учета таргета"
      ],
      "metadata": {
        "id": "0bsUxlYTOiAX"
      }
    },
    {
      "cell_type": "code",
      "source": [
        "data.duplicated(subset=list(data.columns[:-1])).sum()"
      ],
      "metadata": {
        "colab": {
          "base_uri": "https://localhost:8080/"
        },
        "id": "vA7xUn7ROqiF",
        "outputId": "5a7a8444-6d50-4f3d-f459-326fdddb2985"
      },
      "execution_count": null,
      "outputs": [
        {
          "output_type": "execute_result",
          "data": {
            "text/plain": [
              "22"
            ]
          },
          "metadata": {},
          "execution_count": 13
        }
      ]
    },
    {
      "cell_type": "markdown",
      "source": [
        "Избавлюсь от дупликатов"
      ],
      "metadata": {
        "id": "zQw-Pd85PYHy"
      }
    },
    {
      "cell_type": "code",
      "source": [
        "data.drop_duplicates(subset=list(data.columns[:-1]), keep='last', inplace=True)"
      ],
      "metadata": {
        "id": "ioRliJ64PRXF"
      },
      "execution_count": null,
      "outputs": []
    },
    {
      "cell_type": "markdown",
      "source": [
        " **Анализ данных**"
      ],
      "metadata": {
        "id": "_BkJVldyQCYW"
      }
    },
    {
      "cell_type": "code",
      "source": [
        "plt.figure(figsize=(12, 8))\n",
        "\n",
        "for i, col in enumerate(num_cols):\n",
        "    plt.subplot(2, 2, i+1)\n",
        "    sns.histplot( x=col, hue = 'Churn', multiple=\"dodge\", shrink=.8, data=data)"
      ],
      "metadata": {
        "colab": {
          "base_uri": "https://localhost:8080/",
          "height": 497
        },
        "id": "eiVGNu03QWQP",
        "outputId": "6eb44dde-3241-4abc-c983-c6cab70255ce"
      },
      "execution_count": null,
      "outputs": [
        {
          "output_type": "display_data",
          "data": {
            "text/plain": [
              "<Figure size 864x576 with 3 Axes>"
            ],
            "image/png": "[encoded data removed]"
          },
          "metadata": {
            "needs_background": "light"
          }
        }
      ]
    },
    {
      "cell_type": "markdown",
      "source": [
        "По графикам видно, что чаще уходят новые клиенты, так же те, что мало тратят, и примерно равномерно распределены ухдящие по их месячным тратам"
      ],
      "metadata": {
        "id": "CxUfbHUCQ6Bd"
      }
    },
    {
      "cell_type": "code",
      "source": [
        "plt.figure(figsize=(20, 20))\n",
        "\n",
        "for i, col in enumerate(cat_cols):\n",
        "    plt.subplot(4, 4, i+1)\n",
        "    sns.countplot(x = col, data = data, hue = 'Churn')"
      ],
      "metadata": {
        "colab": {
          "base_uri": "https://localhost:8080/",
          "height": 1169
        },
        "id": "qW9F-Qg6S17i",
        "outputId": "b25e8de5-7226-4137-c61b-22af598321a1"
      },
      "execution_count": null,
      "outputs": [
        {
          "output_type": "display_data",
          "data": {
            "text/plain": [
              "<Figure size 1440x1440 with 16 Axes>"
            ],
            "image/png": "[encoded data removed]"
          },
          "metadata": {
            "needs_background": "light"
          }
        }
      ]
    },
    {
      "cell_type": "markdown",
      "source": [
        "Чаще уходят люди с PaymentMethod - Electronic check, HasContractPhone - Month-to-month, HasTechSupportAccess - No, HasOnlineSecurityService - No, HasInternetService - FiberOptic.\n",
        "Углубляться в анализ этих категорий не буду, так как задачи сохранить тех или иных клиентов перед мной не стоит. \n",
        "Так же на данном этапе не было выявлено никаких выбросов, потому можно двигаться дальше"
      ],
      "metadata": {
        "id": "WmcBpo7QT19H"
      }
    },
    {
      "cell_type": "markdown",
      "source": [
        "# ***Вторая часть. Преобразование тестовых данных***"
      ],
      "metadata": {
        "id": "rmrWz9v6VIYw"
      }
    },
    {
      "cell_type": "code",
      "source": [
        "test_data = pd.read_csv('test.csv')"
      ],
      "metadata": {
        "id": "Zi6X_Ww-Vzm_"
      },
      "execution_count": null,
      "outputs": []
    },
    {
      "cell_type": "markdown",
      "source": [
        "Сделаю всё то же самое, что и с train data выше"
      ],
      "metadata": {
        "id": "UCOE19zDWDZB"
      }
    },
    {
      "cell_type": "code",
      "source": [
        "#test_data['TotalSpent'] = pd.to_numeric(test_data.TotalSpent.str.strip())\n",
        "test_data.loc[test_data['TotalSpent'].isna(), 'TotalSpent'] = test_data.loc[test_data['TotalSpent'].isna(), 'MonthlySpending']\n",
        "test_data.describe()"
      ],
      "metadata": {
        "colab": {
          "base_uri": "https://localhost:8080/",
          "height": 300
        },
        "id": "6K5gEfyQWS0Y",
        "outputId": "8096bca2-fe87-4df2-aeaa-ace0d75199de"
      },
      "execution_count": null,
      "outputs": [
        {
          "output_type": "execute_result",
          "data": {
            "text/plain": [
              "       ClientPeriod  MonthlySpending   TotalSpent  IsSeniorCitizen\n",
              "count   1761.000000      1761.000000  1761.000000      1761.000000\n",
              "mean      32.293583        64.272601  2256.505906         0.170358\n",
              "std       24.593736        29.832517  2260.479152         0.376054\n",
              "min        0.000000        18.550000    18.850000         0.000000\n",
              "25%        9.000000        35.650000   405.600000         0.000000\n",
              "50%       29.000000        70.050000  1356.300000         0.000000\n",
              "75%       56.000000        89.400000  3759.050000         0.000000\n",
              "max       72.000000       117.350000  8496.700000         1.000000"
            ],
            "text/html": [
              "\n",
              "  <div id=\"df-19afcacc-e928-4cee-a11b-db5bcf36b888\">\n",
              "    <div class=\"colab-df-container\">\n",
              "      <div>\n",
              "<style scoped>\n",
              "    .dataframe tbody tr th:only-of-type {\n",
              "        vertical-align: middle;\n",
              "    }\n",
              "\n",
              "    .dataframe tbody tr th {\n",
              "        vertical-align: top;\n",
              "    }\n",
              "\n",
              "    .dataframe thead th {\n",
              "        text-align: right;\n",
              "    }\n",
              "</style>\n",
              "<table border=\"1\" class=\"dataframe\">\n",
              "  <thead>\n",
              "    <tr style=\"text-align: right;\">\n",
              "      <th></th>\n",
              "      <th>ClientPeriod</th>\n",
              "      <th>MonthlySpending</th>\n",
              "      <th>TotalSpent</th>\n",
              "      <th>IsSeniorCitizen</th>\n",
              "    </tr>\n",
              "  </thead>\n",
              "  <tbody>\n",
              "    <tr>\n",
              "      <th>count</th>\n",
              "      <td>1761.000000</td>\n",
              "      <td>1761.000000</td>\n",
              "      <td>1761.000000</td>\n",
              "      <td>1761.000000</td>\n",
              "    </tr>\n",
              "    <tr>\n",
              "      <th>mean</th>\n",
              "      <td>32.293583</td>\n",
              "      <td>64.272601</td>\n",
              "      <td>2256.505906</td>\n",
              "      <td>0.170358</td>\n",
              "    </tr>\n",
              "    <tr>\n",
              "      <th>std</th>\n",
              "      <td>24.593736</td>\n",
              "      <td>29.832517</td>\n",
              "      <td>2260.479152</td>\n",
              "      <td>0.376054</td>\n",
              "    </tr>\n",
              "    <tr>\n",
              "      <th>min</th>\n",
              "      <td>0.000000</td>\n",
              "      <td>18.550000</td>\n",
              "      <td>18.850000</td>\n",
              "      <td>0.000000</td>\n",
              "    </tr>\n",
              "    <tr>\n",
              "      <th>25%</th>\n",
              "      <td>9.000000</td>\n",
              "      <td>35.650000</td>\n",
              "      <td>405.600000</td>\n",
              "      <td>0.000000</td>\n",
              "    </tr>\n",
              "    <tr>\n",
              "      <th>50%</th>\n",
              "      <td>29.000000</td>\n",
              "      <td>70.050000</td>\n",
              "      <td>1356.300000</td>\n",
              "      <td>0.000000</td>\n",
              "    </tr>\n",
              "    <tr>\n",
              "      <th>75%</th>\n",
              "      <td>56.000000</td>\n",
              "      <td>89.400000</td>\n",
              "      <td>3759.050000</td>\n",
              "      <td>0.000000</td>\n",
              "    </tr>\n",
              "    <tr>\n",
              "      <th>max</th>\n",
              "      <td>72.000000</td>\n",
              "      <td>117.350000</td>\n",
              "      <td>8496.700000</td>\n",
              "      <td>1.000000</td>\n",
              "    </tr>\n",
              "  </tbody>\n",
              "</table>\n",
              "</div>\n",
              "      <button class=\"colab-df-convert\" onclick=\"convertToInteractive('df-19afcacc-e928-4cee-a11b-db5bcf36b888')\"\n",
              "              title=\"Convert this dataframe to an interactive table.\"\n",
              "              style=\"display:none;\">\n",
              "        \n",
              "  <svg xmlns=\"http://www.w3.org/2000/svg\" height=\"24px\"viewBox=\"0 0 24 24\"\n",
              "       width=\"24px\">\n",
              "    <path d=\"M0 0h24v24H0V0z\" fill=\"none\"/>\n",
              "    <path d=\"M18.56 5.44l.94 2.06.94-2.06 2.06-.94-2.06-.94-.94-2.06-.94 2.06-2.06.94zm-11 1L8.5 8.5l.94-2.06 2.06-.94-2.06-.94L8.5 2.5l-.94 2.06-2.06.94zm10 10l.94 2.06.94-2.06 2.06-.94-2.06-.94-.94-2.06-.94 2.06-2.06.94z\"/><path d=\"M17.41 7.96l-1.37-1.37c-.4-.4-.92-.59-1.43-.59-.52 0-1.04.2-1.43.59L10.3 9.45l-7.72 7.72c-.78.78-.78 2.05 0 2.83L4 21.41c.39.39.9.59 1.41.59.51 0 1.02-.2 1.41-.59l7.78-7.78 2.81-2.81c.8-.78.8-2.07 0-2.86zM5.41 20L4 18.59l7.72-7.72 1.47 1.35L5.41 20z\"/>\n",
              "  </svg>\n",
              "      </button>\n",
              "      \n",
              "  <style>\n",
              "    .colab-df-container {\n",
              "      display:flex;\n",
              "      flex-wrap:wrap;\n",
              "      gap: 12px;\n",
              "    }\n",
              "\n",
              "    .colab-df-convert {\n",
              "      background-color: #E8F0FE;\n",
              "      border: none;\n",
              "      border-radius: 50%;\n",
              "      cursor: pointer;\n",
              "      display: none;\n",
              "      fill: #1967D2;\n",
              "      height: 32px;\n",
              "      padding: 0 0 0 0;\n",
              "      width: 32px;\n",
              "    }\n",
              "\n",
              "    .colab-df-convert:hover {\n",
              "      background-color: #E2EBFA;\n",
              "      box-shadow: 0px 1px 2px rgba(60, 64, 67, 0.3), 0px 1px 3px 1px rgba(60, 64, 67, 0.15);\n",
              "      fill: #174EA6;\n",
              "    }\n",
              "\n",
              "    [theme=dark] .colab-df-convert {\n",
              "      background-color: #3B4455;\n",
              "      fill: #D2E3FC;\n",
              "    }\n",
              "\n",
              "    [theme=dark] .colab-df-convert:hover {\n",
              "      background-color: #434B5C;\n",
              "      box-shadow: 0px 1px 3px 1px rgba(0, 0, 0, 0.15);\n",
              "      filter: drop-shadow(0px 1px 2px rgba(0, 0, 0, 0.3));\n",
              "      fill: #FFFFFF;\n",
              "    }\n",
              "  </style>\n",
              "\n",
              "      <script>\n",
              "        const buttonEl =\n",
              "          document.querySelector('#df-19afcacc-e928-4cee-a11b-db5bcf36b888 button.colab-df-convert');\n",
              "        buttonEl.style.display =\n",
              "          google.colab.kernel.accessAllowed ? 'block' : 'none';\n",
              "\n",
              "        async function convertToInteractive(key) {\n",
              "          const element = document.querySelector('#df-19afcacc-e928-4cee-a11b-db5bcf36b888');\n",
              "          const dataTable =\n",
              "            await google.colab.kernel.invokeFunction('convertToInteractive',\n",
              "                                                     [key], {});\n",
              "          if (!dataTable) return;\n",
              "\n",
              "          const docLinkHtml = 'Like what you see? Visit the ' +\n",
              "            '<a target=\"_blank\" href=https://colab.research.google.com/notebooks/data_table.ipynb>data table notebook</a>'\n",
              "            + ' to learn more about interactive tables.';\n",
              "          element.innerHTML = '';\n",
              "          dataTable['output_type'] = 'display_data';\n",
              "          await google.colab.output.renderOutput(dataTable, element);\n",
              "          const docLink = document.createElement('div');\n",
              "          docLink.innerHTML = docLinkHtml;\n",
              "          element.appendChild(docLink);\n",
              "        }\n",
              "      </script>\n",
              "    </div>\n",
              "  </div>\n",
              "  "
            ]
          },
          "metadata": {},
          "execution_count": 24
        }
      ]
    },
    {
      "cell_type": "markdown",
      "source": [
        "# ***Третья часть.Применение линейных моделей*** "
      ],
      "metadata": {
        "id": "Vy1R1u9GXx0b"
      }
    },
    {
      "cell_type": "code",
      "source": [
        "from sklearn.linear_model import LogisticRegression, LogisticRegressionCV\n",
        "from sklearn.model_selection import train_test_split, GridSearchCV\n",
        "from sklearn.preprocessing import StandardScaler, RobustScaler, LabelEncoder, OneHotEncoder\n",
        "from sklearn.pipeline import make_pipeline, Pipeline\n",
        "from sklearn.compose import ColumnTransformer"
      ],
      "metadata": {
        "id": "ZH_UyiVOYGHB"
      },
      "execution_count": null,
      "outputs": []
    },
    {
      "cell_type": "code",
      "source": [
        "prep = ColumnTransformer([\n",
        "    ('num', StandardScaler(), num_cols), \n",
        "    ('cat', OneHotEncoder(handle_unknown='ignore', sparse = False, drop='if_binary'), cat_cols)],\n",
        "     verbose_feature_names_out = False)\n",
        "\n",
        "steps = [('CT', prep) ,('LReg', LogisticRegression(max_iter = 100))] \n",
        "\n",
        "pipeline = Pipeline(steps)\n",
        "\n",
        "params = {\n",
        "    'LReg__C':np.linspace(25, 30, 10), \n",
        "    'LReg__penalty':['l2'],#['l1','l2'],\n",
        "    'LReg__solver':['saga'], #['lbfgs', 'liblinear', 'saga'], \n",
        "    'LReg__random_state':[42]\n",
        "}\n",
        "\n",
        "LR = GridSearchCV(pipeline, params, cv=5, verbose=10, n_jobs=-1, scoring='roc_auc')\n",
        "LR.fit(data.drop(target_col, axis='columns'), data[target_col])\n",
        "LR.best_params_"
      ],
      "metadata": {
        "colab": {
          "base_uri": "https://localhost:8080/"
        },
        "id": "yw3WvaftYIsJ",
        "outputId": "e11a77d5-3af9-4286-9eb9-aed395706dff"
      },
      "execution_count": null,
      "outputs": [
        {
          "output_type": "stream",
          "name": "stdout",
          "text": [
            "Fitting 5 folds for each of 10 candidates, totalling 50 fits\n"
          ]
        },
        {
          "output_type": "stream",
          "name": "stderr",
          "text": [
            "/usr/local/lib/python3.9/dist-packages/sklearn/preprocessing/_encoders.py:868: FutureWarning: `sparse` was renamed to `sparse_output` in version 1.2 and will be removed in 1.4. `sparse_output` is ignored unless you leave `sparse` to its default value.\n",
            "  warnings.warn(\n",
            "/usr/local/lib/python3.9/dist-packages/sklearn/linear_model/_sag.py:350: ConvergenceWarning: The max_iter was reached which means the coef_ did not converge\n",
            "  warnings.warn(\n"
          ]
        },
        {
          "output_type": "execute_result",
          "data": {
            "text/plain": [
              "{'LReg__C': 25.0,\n",
              " 'LReg__penalty': 'l2',\n",
              " 'LReg__random_state': 42,\n",
              " 'LReg__solver': 'saga'}"
            ]
          },
          "metadata": {},
          "execution_count": 52
        }
      ]
    },
    {
      "cell_type": "markdown",
      "source": [
        "Были рассмторены параметры 'C':np.linspace(0.01, 50, 100),'penalty':'l1','l2',\n",
        "'solver':'lbfgs', 'liblinear', 'saga', \n",
        "Лучшими параметрами оказались 'C': 25.0, 'penalty': 'l2', 'solver': 'saga'"
      ],
      "metadata": {
        "id": "vcC4BCWbdzG-"
      }
    },
    {
      "cell_type": "code",
      "source": [
        "pd.DataFrame(LR.cv_results_).sort_values(by='mean_test_score', ascending=False).head()"
      ],
      "metadata": {
        "colab": {
          "base_uri": "https://localhost:8080/",
          "height": 443
        },
        "id": "oarNk5Wre2OX",
        "outputId": "f285abec-8780-471e-ae4a-1e548cb13cb2"
      },
      "execution_count": null,
      "outputs": [
        {
          "output_type": "execute_result",
          "data": {
            "text/plain": [
              "   mean_fit_time  std_fit_time  mean_score_time  std_score_time param_LReg__C  \\\n",
              "0       1.012702      0.198511         0.036553        0.014262          25.0   \n",
              "3       0.543344      0.017256         0.023093        0.001778     26.666667   \n",
              "5       0.522588      0.008921         0.020136        0.000610     27.777778   \n",
              "9       0.707710      0.260887         0.025809        0.014134          30.0   \n",
              "4       0.549530      0.025990         0.020745        0.000908     27.222222   \n",
              "\n",
              "  param_LReg__penalty param_LReg__random_state param_LReg__solver  \\\n",
              "0                  l2                       42               saga   \n",
              "3                  l2                       42               saga   \n",
              "5                  l2                       42               saga   \n",
              "9                  l2                       42               saga   \n",
              "4                  l2                       42               saga   \n",
              "\n",
              "                                              params  split0_test_score  \\\n",
              "0  {'LReg__C': 25.0, 'LReg__penalty': 'l2', 'LReg...           0.861384   \n",
              "3  {'LReg__C': 26.666666666666668, 'LReg__penalty...           0.861384   \n",
              "5  {'LReg__C': 27.77777777777778, 'LReg__penalty'...           0.861398   \n",
              "9  {'LReg__C': 30.0, 'LReg__penalty': 'l2', 'LReg...           0.861394   \n",
              "4  {'LReg__C': 27.22222222222222, 'LReg__penalty'...           0.861389   \n",
              "\n",
              "   split1_test_score  split2_test_score  split3_test_score  split4_test_score  \\\n",
              "0           0.838544           0.835598           0.856130           0.835634   \n",
              "3           0.838553           0.835583           0.856116           0.835643   \n",
              "5           0.838548           0.835588           0.856102           0.835643   \n",
              "9           0.838553           0.835593           0.856074           0.835666   \n",
              "4           0.838548           0.835583           0.856111           0.835638   \n",
              "\n",
              "   mean_test_score  std_test_score  rank_test_score  \n",
              "0         0.845458        0.011037                1  \n",
              "3         0.845456        0.011034                2  \n",
              "5         0.845456        0.011035                3  \n",
              "9         0.845456        0.011023                4  \n",
              "4         0.845454        0.011036                5  "
            ],
            "text/html": [
              "\n",
              "  <div id=\"df-e57504b8-2493-4b4c-b16a-f30a42b056f2\">\n",
              "    <div class=\"colab-df-container\">\n",
              "      <div>\n",
              "<style scoped>\n",
              "    .dataframe tbody tr th:only-of-type {\n",
              "        vertical-align: middle;\n",
              "    }\n",
              "\n",
              "    .dataframe tbody tr th {\n",
              "        vertical-align: top;\n",
              "    }\n",
              "\n",
              "    .dataframe thead th {\n",
              "        text-align: right;\n",
              "    }\n",
              "</style>\n",
              "<table border=\"1\" class=\"dataframe\">\n",
              "  <thead>\n",
              "    <tr style=\"text-align: right;\">\n",
              "      <th></th>\n",
              "      <th>mean_fit_time</th>\n",
              "      <th>std_fit_time</th>\n",
              "      <th>mean_score_time</th>\n",
              "      <th>std_score_time</th>\n",
              "      <th>param_LReg__C</th>\n",
              "      <th>param_LReg__penalty</th>\n",
              "      <th>param_LReg__random_state</th>\n",
              "      <th>param_LReg__solver</th>\n",
              "      <th>params</th>\n",
              "      <th>split0_test_score</th>\n",
              "      <th>split1_test_score</th>\n",
              "      <th>split2_test_score</th>\n",
              "      <th>split3_test_score</th>\n",
              "      <th>split4_test_score</th>\n",
              "      <th>mean_test_score</th>\n",
              "      <th>std_test_score</th>\n",
              "      <th>rank_test_score</th>\n",
              "    </tr>\n",
              "  </thead>\n",
              "  <tbody>\n",
              "    <tr>\n",
              "      <th>0</th>\n",
              "      <td>1.012702</td>\n",
              "      <td>0.198511</td>\n",
              "      <td>0.036553</td>\n",
              "      <td>0.014262</td>\n",
              "      <td>25.0</td>\n",
              "      <td>l2</td>\n",
              "      <td>42</td>\n",
              "      <td>saga</td>\n",
              "      <td>{'LReg__C': 25.0, 'LReg__penalty': 'l2', 'LReg...</td>\n",
              "      <td>0.861384</td>\n",
              "      <td>0.838544</td>\n",
              "      <td>0.835598</td>\n",
              "      <td>0.856130</td>\n",
              "      <td>0.835634</td>\n",
              "      <td>0.845458</td>\n",
              "      <td>0.011037</td>\n",
              "      <td>1</td>\n",
              "    </tr>\n",
              "    <tr>\n",
              "      <th>3</th>\n",
              "      <td>0.543344</td>\n",
              "      <td>0.017256</td>\n",
              "      <td>0.023093</td>\n",
              "      <td>0.001778</td>\n",
              "      <td>26.666667</td>\n",
              "      <td>l2</td>\n",
              "      <td>42</td>\n",
              "      <td>saga</td>\n",
              "      <td>{'LReg__C': 26.666666666666668, 'LReg__penalty...</td>\n",
              "      <td>0.861384</td>\n",
              "      <td>0.838553</td>\n",
              "      <td>0.835583</td>\n",
              "      <td>0.856116</td>\n",
              "      <td>0.835643</td>\n",
              "      <td>0.845456</td>\n",
              "      <td>0.011034</td>\n",
              "      <td>2</td>\n",
              "    </tr>\n",
              "    <tr>\n",
              "      <th>5</th>\n",
              "      <td>0.522588</td>\n",
              "      <td>0.008921</td>\n",
              "      <td>0.020136</td>\n",
              "      <td>0.000610</td>\n",
              "      <td>27.777778</td>\n",
              "      <td>l2</td>\n",
              "      <td>42</td>\n",
              "      <td>saga</td>\n",
              "      <td>{'LReg__C': 27.77777777777778, 'LReg__penalty'...</td>\n",
              "      <td>0.861398</td>\n",
              "      <td>0.838548</td>\n",
              "      <td>0.835588</td>\n",
              "      <td>0.856102</td>\n",
              "      <td>0.835643</td>\n",
              "      <td>0.845456</td>\n",
              "      <td>0.011035</td>\n",
              "      <td>3</td>\n",
              "    </tr>\n",
              "    <tr>\n",
              "      <th>9</th>\n",
              "      <td>0.707710</td>\n",
              "      <td>0.260887</td>\n",
              "      <td>0.025809</td>\n",
              "      <td>0.014134</td>\n",
              "      <td>30.0</td>\n",
              "      <td>l2</td>\n",
              "      <td>42</td>\n",
              "      <td>saga</td>\n",
              "      <td>{'LReg__C': 30.0, 'LReg__penalty': 'l2', 'LReg...</td>\n",
              "      <td>0.861394</td>\n",
              "      <td>0.838553</td>\n",
              "      <td>0.835593</td>\n",
              "      <td>0.856074</td>\n",
              "      <td>0.835666</td>\n",
              "      <td>0.845456</td>\n",
              "      <td>0.011023</td>\n",
              "      <td>4</td>\n",
              "    </tr>\n",
              "    <tr>\n",
              "      <th>4</th>\n",
              "      <td>0.549530</td>\n",
              "      <td>0.025990</td>\n",
              "      <td>0.020745</td>\n",
              "      <td>0.000908</td>\n",
              "      <td>27.222222</td>\n",
              "      <td>l2</td>\n",
              "      <td>42</td>\n",
              "      <td>saga</td>\n",
              "      <td>{'LReg__C': 27.22222222222222, 'LReg__penalty'...</td>\n",
              "      <td>0.861389</td>\n",
              "      <td>0.838548</td>\n",
              "      <td>0.835583</td>\n",
              "      <td>0.856111</td>\n",
              "      <td>0.835638</td>\n",
              "      <td>0.845454</td>\n",
              "      <td>0.011036</td>\n",
              "      <td>5</td>\n",
              "    </tr>\n",
              "  </tbody>\n",
              "</table>\n",
              "</div>\n",
              "      <button class=\"colab-df-convert\" onclick=\"convertToInteractive('df-e57504b8-2493-4b4c-b16a-f30a42b056f2')\"\n",
              "              title=\"Convert this dataframe to an interactive table.\"\n",
              "              style=\"display:none;\">\n",
              "        \n",
              "  <svg xmlns=\"http://www.w3.org/2000/svg\" height=\"24px\"viewBox=\"0 0 24 24\"\n",
              "       width=\"24px\">\n",
              "    <path d=\"M0 0h24v24H0V0z\" fill=\"none\"/>\n",
              "    <path d=\"M18.56 5.44l.94 2.06.94-2.06 2.06-.94-2.06-.94-.94-2.06-.94 2.06-2.06.94zm-11 1L8.5 8.5l.94-2.06 2.06-.94-2.06-.94L8.5 2.5l-.94 2.06-2.06.94zm10 10l.94 2.06.94-2.06 2.06-.94-2.06-.94-.94-2.06-.94 2.06-2.06.94z\"/><path d=\"M17.41 7.96l-1.37-1.37c-.4-.4-.92-.59-1.43-.59-.52 0-1.04.2-1.43.59L10.3 9.45l-7.72 7.72c-.78.78-.78 2.05 0 2.83L4 21.41c.39.39.9.59 1.41.59.51 0 1.02-.2 1.41-.59l7.78-7.78 2.81-2.81c.8-.78.8-2.07 0-2.86zM5.41 20L4 18.59l7.72-7.72 1.47 1.35L5.41 20z\"/>\n",
              "  </svg>\n",
              "      </button>\n",
              "      \n",
              "  <style>\n",
              "    .colab-df-container {\n",
              "      display:flex;\n",
              "      flex-wrap:wrap;\n",
              "      gap: 12px;\n",
              "    }\n",
              "\n",
              "    .colab-df-convert {\n",
              "      background-color: #E8F0FE;\n",
              "      border: none;\n",
              "      border-radius: 50%;\n",
              "      cursor: pointer;\n",
              "      display: none;\n",
              "      fill: #1967D2;\n",
              "      height: 32px;\n",
              "      padding: 0 0 0 0;\n",
              "      width: 32px;\n",
              "    }\n",
              "\n",
              "    .colab-df-convert:hover {\n",
              "      background-color: #E2EBFA;\n",
              "      box-shadow: 0px 1px 2px rgba(60, 64, 67, 0.3), 0px 1px 3px 1px rgba(60, 64, 67, 0.15);\n",
              "      fill: #174EA6;\n",
              "    }\n",
              "\n",
              "    [theme=dark] .colab-df-convert {\n",
              "      background-color: #3B4455;\n",
              "      fill: #D2E3FC;\n",
              "    }\n",
              "\n",
              "    [theme=dark] .colab-df-convert:hover {\n",
              "      background-color: #434B5C;\n",
              "      box-shadow: 0px 1px 3px 1px rgba(0, 0, 0, 0.15);\n",
              "      filter: drop-shadow(0px 1px 2px rgba(0, 0, 0, 0.3));\n",
              "      fill: #FFFFFF;\n",
              "    }\n",
              "  </style>\n",
              "\n",
              "      <script>\n",
              "        const buttonEl =\n",
              "          document.querySelector('#df-e57504b8-2493-4b4c-b16a-f30a42b056f2 button.colab-df-convert');\n",
              "        buttonEl.style.display =\n",
              "          google.colab.kernel.accessAllowed ? 'block' : 'none';\n",
              "\n",
              "        async function convertToInteractive(key) {\n",
              "          const element = document.querySelector('#df-e57504b8-2493-4b4c-b16a-f30a42b056f2');\n",
              "          const dataTable =\n",
              "            await google.colab.kernel.invokeFunction('convertToInteractive',\n",
              "                                                     [key], {});\n",
              "          if (!dataTable) return;\n",
              "\n",
              "          const docLinkHtml = 'Like what you see? Visit the ' +\n",
              "            '<a target=\"_blank\" href=https://colab.research.google.com/notebooks/data_table.ipynb>data table notebook</a>'\n",
              "            + ' to learn more about interactive tables.';\n",
              "          element.innerHTML = '';\n",
              "          dataTable['output_type'] = 'display_data';\n",
              "          await google.colab.output.renderOutput(dataTable, element);\n",
              "          const docLink = document.createElement('div');\n",
              "          docLink.innerHTML = docLinkHtml;\n",
              "          element.appendChild(docLink);\n",
              "        }\n",
              "      </script>\n",
              "    </div>\n",
              "  </div>\n",
              "  "
            ]
          },
          "metadata": {},
          "execution_count": 53
        }
      ]
    },
    {
      "cell_type": "code",
      "source": [
        "y_train_predict = LR.predict_proba(data.drop(target_col, axis='columns'))\n",
        "y_test_predict = LR.predict_proba(test_data)\n",
        "\n",
        "roc_auc_score(data[target_col], y_train_predict[:,1])"
      ],
      "metadata": {
        "colab": {
          "base_uri": "https://localhost:8080/"
        },
        "id": "QRla16UskElb",
        "outputId": "7443d9e2-1013-44af-cde2-30c5b370291d"
      },
      "execution_count": null,
      "outputs": [
        {
          "output_type": "execute_result",
          "data": {
            "text/plain": [
              "0.8491481049900607"
            ]
          },
          "metadata": {},
          "execution_count": 54
        }
      ]
    },
    {
      "cell_type": "code",
      "source": [
        "submission_1 = pd.read_csv('/content/submission.csv', index_col='Id')\n",
        "\n",
        "submission_1['Churn'] = y_test_predict[:,1]\n",
        "submission_1.to_csv('Annanas_LR_1.csv')"
      ],
      "metadata": {
        "id": "2B1qXir5k2vZ"
      },
      "execution_count": null,
      "outputs": []
    },
    {
      "cell_type": "markdown",
      "source": [
        "![lg.png](data:image/png;base64,iVBORw0KGgoAAAANSUhEUgAAAgoAAABNCAYAAADHA0yoAAAAAXNSR0IArs4c6QAAIABJREFUeF7tnWdcVEcXhx8pAlJEAbGLBYwtwW7UqFiwR7EXjL332HuLxhYLYu+JEhW72DV2Y6wYK2ABFBGQzkpZdnl/d3eBBVFp+iZx7jfYe+eeeebuzv+eOXNOnqSkpCTEIQgIAoKAICAICAKCQDoCkkTII4SCeC4EAUFAEBAEBAFBICMCQiiI50IQEAQEAUFAEBAE3ktACAXxcAgCgoAgIAgIAoKAEAriGRAEBAFBQBAQBASBrBMQHoWsMxNXCAKCgCAgCAgCXwwBIRS+mKEWHRUEBAFBQBAQBLJOQAiFrDMTVwgCgoAgIAgIAl8MASEUvpihFh0VBAQBQUAQEASyTkAIhawzE1cIAoKAICAICAJfDAEhFL6YoRYdFQQEAUFAEBAEsk5ACIWsMxNXCAKCgCAgCAgCXwwBIRS+mKEWHRUEBAFBQBAQBLJOQAiFrDMTVwgCgoAgIAgIAl8MASEUvpihFh0VBAQBQUAQEASyTkAIhawzE1cIAoKAICAICAJfDAEhFL6YoRYdFQQEAUFAEBAEsk5ACIWsM8vUFUpZKAHhsepzdUwoXNQc/UxdKU7KGoF4wl6GIAP08xemsKneBy+PD3tJ8NsMTtE3wszEBNN8BujkyZoFac5OjCUiNJSIyAiiEwwwNTfD3MICc6MP25WDO4pLBQFBQBD4pAT+v0JBqSBRqdU/HV30dD5pfz9T44kEnVnFohMB6vsZ2jN4mjPljT7T7b+o2zzHffxq/gRs2k9nVH3zD/b+2b7xuEonpz/Mi1GprC12ZctSrlJ5ihhn/UGMD32G9927XL56Bc97nniHWmFnXwn7uvWpb/81dqULYpATEfJFjavorCAgCPxTCHxWoaBMiCVCFkZkXAxRilhiE2KRybVQ6BthnFcXE10z8huaUdA4P8Z5s/6D/X+Hm+jPjj5NmHE12ZJSDN97hPHVhFLI/bG5w4IyXdgIOCy+ypZOVh+8xe2FtnTcABiYY22ZD/V7voLY8DAi3spRmlai59SfGONUGcu8WbA2NohzG6Yzd/15/HUsKF7UCmM9OTGBvryI1MGm8XBmzhuAQxGDLDQqThUEBAFB4P9P4NMLhSQlctkbXkYF8SLED0/fm9wL9OFB3EsCkjICYIStUUWqFKlELZuvsbMqRDGzIhQyzpszl/BnZJ3ou52ejX/iOiaYmb0lKkqJzSA3PCbXxPgz2vFl3CqbQsHWiSkDaqL2P7wl4PZ1bvx9D89HgcQa2jNuzzZGVM78aMluLMGp6wZ8dK2p4tSdQe0bYWMaic+Rzaw7cBnvUCW2Q905MMFePANfxoMpeikI/GcIfFKhkBgbSkCoL4+eXGDfo1OcitOs2WcBn7lBdTpUbI1DOVsqWhTD0kg3C1f/P05NxH97LxrOuQnmjjg3e4ybuz9KK2d2/DGLeunnnoQQHt9+RgRQpFJtiiYF8PTJKyISlKCrj3nRcpQtaoZ+istaTvDj2zyTLihaiTpFlAQ8e0JAuBwlOugXKEq5MsXInz4gIiGKwBcveBUWg1whcdHDKL8FRUoWp5Cx1vp5tD/XHgQC5pSpZotppD/P/IOIljw/+iYULlmGklZGpPfzyCMD8XsZSFi0ZId0rhH5CxahZAnpzTrtOCjjIgj0f8nrSFmqLQWtKFasKJbpT/7oEGZTKDRawPUtndH2P8gebGZwt4VckUGhIW5cnlgzk3Elcm6vaMkPm0PAuj/bPUZR3TDZcBlXZjXD+bcQsBrJ4b9GUeWjfQI1I38Cw2JJlM7X1cfUsgQ2GfCUxwQR8CKIN5Fa5xYsQvESRciv8YrEvr7PXV8pkkMa1/IU0vaWJMkI8LzPi3jA0pYa5QpqPC2ZMFScIggIAv95Ap9GKCTJiXzzjLvP/mD3rb14xKt+6rQOXUx0TDDNa0he9DEw1CUxLg6F5AJOiCFSGYf0m5Xm0K/DyJrtaVG6El9ZmaH3T13rTfBlc+9m/PQXmHdYw8kBz+ncdgn+Cit6bT/N3O/SKYXX7vSrO5VzQP/1Z6n/Yh0uaw5yJ0wOhuZUbTuUIYM60LSsuWZyDmF3v7pMPi9dsI7z9fxY47qWA7cjkKOPebX2jBg8iI6NbTBP1lTxITw+f4Qdbns5esOHiDiJbD6KValH6x7d6NqsLmUKambzmwsp3WUz0IhZ+0djenIN691O4xMNmNri2GMgQ3q3oGrh1GWU+BAvLhx049f9x7juJdkhnVuUSrVb4ezcGce6ZUhuXhnzkttnj+Lu5s6pey+J1zUgMQ4KVWuEU4dudGldmxImWVluyj2hAM/Z0cGRGZ5S998VEu//NYjg+sYlHPAFqvRgbrdKaQRGgJsz9af/BQaDOPBoAvYf+VlRRvtz+4/juLu54XHjFarYS0NzbOt3ol/P9jSuU55CmhUM+Rsvzp1wZ5/7aS4/DCGPoR5xCgPK1GxF1x49aOdQXrWEEnBoAC3GXiAGeyaf/J3Bttri8Cozm/ZG0jLW/XZydnot4fX4z//0iw4KApknkPtCQRFL4OtbHD2/llXBL1VvyuojD2b6hShkYkHBfPn5ytCO8hbWmGNGIet8yIJeIyOWl6HePIh/TYAsjDcxb3glj1VPPJrD1nIwUxo3oU5ha4z/gc6F+Edr6N56OXcwp+P60yxtEsI6xzYseqakUNfNnFnQAFNtkaMlFBzbdCTwsQ/6+fXRUcTwwsuLoFjQbzqbsy49KaF6S9USCk1b0TnIC289c/R1FEQHeOH1OhYMmzHvxHKcS0qziZzgS8sYMngTd/SKU+mrYpiquMXz2ssT34h8OEw/wOp+ZVBN/SlCwZ427cy56xOBtZEuyvhQnj3yJUIBtv224z61Lvml+TwhhEvLh9F/vScGxSvyVTFT9dtofBCPPX2JMG3E9L0u9LeVWk8k6PhkOg4/RICJZIstX9laEfPKG5+//+ZZeGGcXNxY1KZYJt/kpRvlolCIf8jaTu1Y/AB0Wi7n1uo2mqWJzH+h3jkzPoQTs9sxdHcIJrV+4siurth8qLnEMB7tmsPAmccIzFcEW7viFDDQQRkXjPf950To2zNk63rG1Zbe+mU8WNUHp+WeKCzLYl+pLHZFjQn2ecSjB48JTLJnlNtWxtqbQJAHg5uN5VQM1Jp9jp0/FE/xGsiuzqGx8w6Cda0Zs/sco6uJ/Tk5GHFxqSDwnyOQu0JBISPA7zxrTy3jt9hUL4KBbhHKFixK3UJNaGxXh1rFLdD/0G4xpZwI/1tc9r7EoZDHeIU+x0+h8perD8PWLHTsSRub5EnvnzIu8dxb4cT3Lj5g7sS6M4tpXhC81zeh5SJ/lIZt2Pjncprm17JXSygYl2rBuPlTcKqSH/23PuyZOYqfTgeixJapp44xsFw6oWBcklbj5jH1+28w13+L975ZDJ9/mkBpMp9+ilP9SgMRnFs0gnU3E1GW78b8Ke2xk5wayhA8JrZi5P4IKDOZ42f681UaoQCFvhnI5IV9cSyaD3nIVVxHT2Xzgwgw7MyWGwtwkNoJO8+i4Ru4maikfLd5THGyRbVhIOgY41uOZl8E2Ezx4NzA8ipbPEbUZOQxoPZkjm3qTwWNLeeW/siamwr0qg9i7aRGWZigsykUao/nwJLWWCQPhVxG8KODzB+xiTsYUWbKPs4OtM3Zg5UYhd/5tYwdtYm7RqXptHAni5p9ONhS/mwnfdvM5kqcCbbfT2DRtM5UtdJH/uo8S4ZNx+1pNPqN5nLCpR3Wee6zorYTK0PApPtaLs1rirnEXvaAHdPnceiVHkbtZvFrD6kfIXgMbcXIkxFQdx4Xt3WjhOo7GMu1+U3ovjkEHZuRHDw5iipCJ+Rs3MXVgsB/jEDuCYWkBN74HmfJcRd2pSw1GGJtUorqRTsxvLYDlS2z/gskD/Xm5F+b2RDgw9OYUGKSB0DfgXmtR9LVxuKfs+Us9j5L2zuxWtIJHdZwbmkz9YT3eAMNVcsP+rRde40Vzc1S1/i1hMK3Cy7g1q1o6iN2byW12rkSAgzc48PUGumEQt25XP61O8WSPfXKhyyv3w6X18CgPTyfXDWlLXm0jHi9vOgmxpKQGM9bmQzfPRPo4Sr52fuz79lkqqURCmb033mN6d+mjlmExyiqjjquWpZYeHUjXQtrmlfKkcXEo5NXl8R4OYoEGdExfvw+rhdrpeZTbInAY3QDRh6JhdrD2Da5DaWszDHPb4aJbiLxirwYG2f1GcmmULCyx/G7Uqku9ig/zl32JEKej0JlGjF5/UqcPvjq/5FfAkkk3NjL0gk/4xFeBPsf5rJ+QiMKfXBVRYnvtq44zPUEM0dWHlvN91qPg+zGdn466A3UpO+89tjpPMalZjuWhyop1HkBa36oiqVlAQqamWFEAvF5jDFOiZWAiLOTaTJwH2HUZdGlrXSRHpzYOyxt24XVz3Qo+eN+zoxIu2zyH/u9E90RBASBbBDIJaGgJDr4T9YfmsmqmGRPghElzOvRz74vXb8prn7LzPYhJ+DOXlw9D+AREURUcjv5urGlvTMO1qbvBNdl+1Y5uDD29nJadVqDtFRdY8xWZjbW7OlX+LDVeSIHZKDfagVXXVpjmcxDSygMdPNhap2MvQ0ZCoX+O3g+rbbWBVrLElpCQfk2BP/n/rwIekPwiwAiZCE8f+bH32fPci9SCj3MSCjUY+GlbXQtptW8VvxCqlBQEhviz7PnLwl6E0JAQDgxYX74PP2b0+fuEyM5grRs8T04msELz/Mk+C2GRWtQv5E99pUqUb6oNfkLvycQ84Njkk2hoL09Mj6KgDdqCWr5dUcGTh7HoDoffvP/oElpRIIVdo1HsGpJD+y0Ju2Mr5dxcqI9Q/YC9RZw+bfOaON/9xoZ11f2ZcK2v/GP1MG8fE3q17OnVsWKFLOyxLp4ScqUtCIl/jf6EtMc+uEWBi2W/cnq9pYo7rri6LQSX4PSTDlwikEqt5I4BAFBQBBIJZArQkH51p9DB8czJihI07IhJQo6MK7eaJzK5V7uANnToyy9vI09YcEpngWbQmPZ3v57bHKmRHLhmZBxfWE7um7wU7WVr2gpCmm/zb3yUwcRGjZj1QVX2lhplIK2UEjxGmjMyfCzjMWA+ooMPlNG4X1oLb+sc+NMgJFqf39+E2MM9PXQe/uMaw8kf0VGQiGd10BqPgOhoIz04dC65ax1O8urvMUpYmWGibEBefX0iPT7C6/03g1lCNc3r8D1jA9RsigiI2OICntDWKyOOhBz7Gic61mT+WwD2RQK2tsjg2/g6npAFfVfb+ox1ve3xTi7wbLyCHxv7ucXlSdBEgl9mTdzILUypTtC2TewDuPPAg0WcG1bZ6w/9mTG+eKxbAG/eYYTGx1JZGQUYWHhxCQYYtu0B0PHDaVd+WQPlowLM5vQZ0co+q1cuLaqKW829KD5Ik8Mqs7hhHsPbHIk6D9mrPhcEBAE/o0Eci4UkmLxu7aM/tdO4aMikAdLk0ZMbzwJp7K5JxKS4cqfHWTq2c0ciInSBDla0K2GCzPrF8/+j3tujJzsKjMbqyPHzYuXp4hJ+pkmjhAfX94owHHxZVZ3slYHk31qoRB2nMH1R3Eqzozy7fsxolMjKpe1wSq/MVGHelN3ipQVKvtCIezoMOqMPI3crDxOA4bRsWFFbG2sKGAcxd7eDZh65d1lEGViIiTGEOj3kPt/+/Dwryucu/kX9/zfgu1ojhwZQeVMJzvKplDQ3tWg9MX9h25MvhqKsmhn1u+fi2OhbKRclkTC1d38PG0pp7IsEqSHQcaF6XXp4/YWKk3k6IGBVNQyIzHcl0cBkufDHJuKxTHVTOoST3l8OIFeD7j/4AHXr13jr5vX8A4B/eYuXFvbkoKaZ1z253ya9NxGkBQvc34ET4e0YKGnAdXmerDPOSdrLbnxJRJtCAKCwD+RQI6FQmLEFebvmMoWzdYEfb0yDK63lAnVUsLEct7vhAjeJJhiaaLe5hB8ZzXDL7tzPVGTsUmvNdt+GI+DKgz//3PILs2hce8dBFOAzgs38EOF9GvtrzgydgQbninTBpN9aqFwazFlO29ESU1+OudGz1IaPolRXF3agZ4qD0j2hcLtxeXpuE4JteZy/vfulNLoo8TIa/zSsRfrnmkJBWUUvrce8SL6LQalq1OjdPKbrpK7rm1pv0xaf2/OL9dd6WCZ2XFMFQoNf77Apo6FMrhQBz1NbvCUzIzptj/Krv2C06B1+Ei7AsYfZtOQCikTcaYsiQ/j2TV3Fkki4ZUJJZsN5OfZg97xJOjo6mkShymJDniE16skCpaxpYyF2oeSuo2xBqP2uDCsupU6Bicxike/TWbYTm8o2Ik1O4dQQRHEA09fwmLeYl65LlUKa/wwijA8JtRm5EHAeBgH743lmxSlfZuVDbuz4rUubUcPJmilK9eNazL/iBs9hE7I1FCLkwSBL41ADoVCAr6nJ9Pu/i3NNkhj7G1msrFdnY8EbWUBc0I4Tx8d5kB4ZbrWsKeESixEcf3ASAb6+qZsv3T8eheuTYpkwWWdBRs+dmpSDBemOtJndwgU7Ma2c/NoaPruRSm7H6jLvPObcS6p9+k9Cl5badh+Af7xpej5y2K6f22JsSKK0MCb7J61FHd/KWNF9oWC15YmtPvJn/gyPVi2sAtVrIxRRoURcGMPc5bsw09qPjlGQf4A1zbd+cUnlkItp7Csfy3MJM+BIprrG8bx0/EQjEqMZeeZYVTNdExjqlCo1Hs+P9bLyMdfkppNyyINyfuEAspXnBjbheFHglBatWLZ3oU4lci8Ryz61mpGj17BuVfSuNvSc+5oGhd+1y1SsqYD5aRdLwkBHJkxkMlHEqg9bAkrR1RV2UfQaSb1nMreZxHoVhvA0h+bUso0D/Ehnvw282c8XhlRYsA6jk+ti3HQcUa0GcPRUCVVByxnamsbDKSvR5w/HgtGs8FTB8vmKzi4tqVWrIOcey6OtF/xEl1DfeRxckwaL+fEpjYfiYf42JdAfC4ICAL/VQI5EwrxXqzdMoiFqgQ+oJ+3MS5Os2ilFamdI3AqkbCfeed+5VySBR2qTuPHGlXVCXmCLjJl70zcEjReBYNeHO03gMofDRjLkUUZXxx5llHfDuFIHBR03sLFud9lnLAmZfcD1Jp1lp29S6L3qT0Kch92jBjJqivPCVaaYVuzLqXjvHgcaUZl6xiOXZIWjLIvFORebowY6cqV5yEk5LelVm0b5D5ehJlXpEjkCVTNawczHhrPmFXXeOofRLxZKYpJ8Z5xIfgG62Bdsgx1R/7CsnZZebVNFQrvH9nU/r1XKEgZJ+5tpG3vxXhFSLkiNrNrcoOURFEfe2pS2v3IiSlBqaEnGe84in3hYFxuMvtO9UXaQCodwReWMnrRUR4/kzJ0GlKsVF6C/SJQmlhTqkwdRqxYqtmRIeP6qsHMdvfiSWAE+taauJiIV/jHGFOsbHm6zFjPiDppk3zJ/3alaceV+Kt2HJvg6HKK9W0yFUTxMQzic0FAEPgPEsiRUIj33krXo9u4owKThwplXNnXtnIOdzhoKKcRCcnkyzDRcQPDK0mvm3LuHeqF07NATaxCcSa33MrQrzK9uJ17w+nlxg+zj6nsqDVyPWPrvqdGgNKHHQPmcFTKZF1nGJtG18VYlYdgE9Iuwtazd+CcPFtI1mX4mTovwgbpgraz+F21Rz75eM9nQVfZsGIjZ5/GokwCHT0zqvSYSl+zvYxfJzXUijm/98BOasbLje6zpUQH9gxaPR6H5MXtD3wWfHUjyzee40mMtINCB70Clek5uQ/G7hMzsFNOwAU31u88jVdEosoe8uigZ14ex54DcW5YFH1i8Lv2ACmR9IcOKeV1KVMfdnSfw9EPnpnaP283Z2Ydkbo3IIN8DVr8jL5l7JIumPmo02u//1CnRI7Yq2n3IzanjLEyhHPLJrLuupIy3aYzt4NtmiRTEfcOsn7dIW6HqMcMHT3MyjfDeWAPHEpouVuUEdw/uAlXD0/CoxPV6bN19DCytMdp2ACcKmVQTVP7OcSWPitm0fyjUZO593URLQkCHyKQGBvBm9AIoiJiiM9rgnl+cywtzMlqpXZlfAxvQsOIiowiVpGNku/xEQSGxKhTqEtHPitKFEwbZp0YHURgpHZKwHd7pp+/MIVN3415StNPXUPM8uenoIUFpgbvWUJPUhIfE0pYWCQR0XFgZIa5mTnmBcyyzCarT2AOhIIC7+ODafZYHcIIRZjY8jeGf5Vpn/H7bc1QJOSnXKH2zG3Wj3qaZWi51xbaHtvOI01LVe02s7d1OZGn/j1k5TIZUgmJvMbG6Od2OIeUS0GWAOTF2DRzz0CyPeikz5+QGS+Bdm6JrD72mTxfy9vz/isy2B2Syeal0+QyOfofyB2Rwkg/bU6EjG4h5cqQRoBMnJsFE8WpgsDnIZAkJdrz4s6tK1y6epcHnt4EW9hRtco31KtTgyrfVMbOKhP7oTTtPPjbk4t/3eDBvQcEyJJLvtejZoWvqGBX5COZfeW8ubyNFQe91CnUpePb4SzrKCWxSz0iLrsy96C0If79h0376YyqryXYFbG8fvaQh/ducjm5n8bFqFylIrVqf4d9pa/eLUkvJTN8eJdbty9x/fpDPL0CoFgl7Ct+Q9U6tahaOTXO6VMMVg6Ewhs8tnRkeKTGLD1nDg8dyDfZCBZP07FMigTVNfJ7rFo/gqXJgs50HNcHfP/xLWWfgqRoMxcJZMZLkIEHJhctUDWl5dF5f9MZeF5y2w7RniDwnyegJNrvMjsWz2X5cT/kUoG7fIbkTYpHFiutkeWj1uCfWTS4BTaq9KPvP2JfXWXb/JnqdqTCepZSYToF0UFBRCVCvio9mDV/NB0qv7/4WWLoLVYN7oXLbS1vQbokdpIFL3d25bsZtz9oj8Piq2zplLy0pyTi8RFc5sxk619vQc8ES0szDIgnIiQUmUJfVZJ+6qw+NCuh8UwnxRN87zC/TJrFHi856BlR0MIcnbdv1EX4DEvhMHgKs/o5UCp5K1QuPy/ZFwqJnixzHc1KTYiAvtU87jo3yFkxmayIBBWIWC67taRnUHK9aid2jxhDncy90OYyStGcICAICAKCQLYIxL3kwPSe/LhfigY2okjFqnxdpTgF5CE8vnOHv59HoEQfxxnHWNbH5gNb4aV8Np3pukHydBtRosZ3tG7RiNKmb/E+6Y7HBS+CFKBfdzZntvakZEZzhSKCB2tH47TsKnJdHXQUSvWSXgZC4fYvFem4WhITRahQuyTa2fmTOdgPcWVSQ41HITEI92EOTDwjB10LytVvSbvGFSlEMHeOHcTjL19VjqBiPbZy/Kf6qgBnZfgNlgzszTpJtBgVodK3dWhS1x79F1e4+tc9bj8OJJ6itFm6k6Udin+SgP7sC4WIc0zaOptdGhplym7g3PfaC+yaD1Rr0Jl4dLIsEtRtens40cwnTHODeqzttYBWmd5alwm7xCmCgCAgCAgCn5RA7N3ltHNao8rFY1DckekbV+BcXj2LB5+dR88xv/JEqpJu1YVtp+bTMKMZWXV2av0TqM6cM7v4oYzG9LgbLGrcg3VSEjgasezaRpze2U2tJNLrVyY6zedUnBElqpQk7p6XKo3+u0JBzpWZFXHeIZWBH8jvXhOp87El3fBjjKg+Wh1TVbgnW47NxiF5VeLVAfrUn8gF6TPDIex7OE6VVj/i5FhqDfVQxcBZN57Fr67OKVleZfe2MqDXAq5J6YptB7F//wSqvidELicDmH2hEHSUwW6LOaG5e4tvdrG+cZG0tijiCA704rVBGSpbfSDNcjZFgnSzkHOTqOF5TXPfarh0W067dGbkBJC4VhAQBAQBQeBTEpBz16Ul7Veos9p+M/M0B/to7XxSvmJ3f0cmX5D2WuvTZestFjV839ZlL9bU/Z4lryUfgBMbPRfS1Ewzeyt82dKtGfNuSc6GNqy6uJw26dL9KKOe4jalFzOkrdrFmjFvvgNH+0zlXIZCIYjdfeoz+aI06Y/F48pASr55Q0S8AnQMMCtQgPzpIzDDTvJjoxEckNwG9uM5+ftg7JLDLmIvM6VSX9XLt47FaDxujKACcG9VXb5frpIq9Nn+kFnfabtBgtjfvz7jVAZaMWjPBabUyH2X+qcTCpJI8L/IpjOLOJlvMMscW1I1I7GQA5EghMKn/PKKtgUBQUAQ+BwEXrGnZ0Mm/Sndy5xR+24wNrWencoA782taD5fHTifWo02I9vk3N/SgyHL/ibgrQVtZi5neMNiGOsnEuN3khUDl3JKbkKJJjP5dY1T2pTlyhie7ZpG9+nHCDYoQtPZm1nT0JPBdd8nFJ6zra0jcx5ItVnG4TayNE/OXeVOiAwMrahUrTa1qtvzVUlz9FO86iGcnNSLqQeeEpZoz6A1s+lcIT8GxBHhuYtxY7fjY2RFpX4r2T2upmop/96K6nzvoq5w1HH9HRY3M0mtbSQtZYysz8STahYOS6+ypUPub3XOvlAIOcGIHT8j7TSTjlqVfsPdsWTKyMUHXmGVR2qRKJtCw1nh2JpvrIxTO5lDkSDdLOD0MOrel0ZKOmri2mMpbcVWr8/x7Rb3EAQEAUEgFwhoLxdkvIso4tgoqo6QKtcCA3bxdGr19xcCjPNhz/RprL/sxbOovFSt3xAbs7d4nz7NA4UV5ao0Y9j86TiVSfvmLfPdxwznyRx4pYN1/Rls2uBM5Qh3+r1PKCTdYkHZbmyUbCpTiSqRfgTqm6GbEM6bsFgU6GPTcjQ/TfuBekW1PCAhV/ll3AIOPHhGQKIN9epLMQoh3Dl3lQCj4pSr14PZM1LrwwSfGEvzYR6qbdqF2sxh3cRWfFXIBJ34UALu7WPmgOVc0eQy+m7hZX7tkvsTYPaFguxP5m2YzKbkx6T4Cp52rpqyNTH4zip+/Os412JlmjwHYGs9huXNW1DJwgidXBAJoODOPkfa+yfvdG3Klv4zaGKWC8+uaEIQEAQEAUHgMxDQ3g79nu3GNxZSuuvN35Z3AAAajUlEQVRmtS19d+A9o3aavCPaRsoj/Hl84xoeuzew4Y+XGBW0xFxHxpvwGOTFGzFiZF9a1PmGCkW1XlplARya34Mxu16hY1GRKRv3MsBeP03m3HdiFBT32N5lNu6xMmQJBhQpX426dSpi/OYGF89e46+HgUgpc2z7/ca+aXUwVXkVlMQGPeXOtT/Y+9smDtyVYVLAEmNlhEpcmFbrzIh+3XCoXT4lrbu0+2pulwlsf6YO6LTtMJrBje3QD7nCwZ2neRr3Fv+X6mwvteZfYHf33Mp4mEo1+0KBp2xd3Y/Zqo3bgOmPXOvfjiIpLhY5vtdWMfXOKa7HxaaIharFJjCvUVXyBZ7QZFxMNubdPAkffUKVQRzc1oXRyVs08/bhxNC+VPhYQMlHGxYnCAKCgCAgCHweAvdZbu+E2rtem3kXduBcIu2d5ednYdfPTf3PDHYfpJydEMJfW35isssxfOXmlKlSlarf1cPewJfLf93m75sPCYzVx7bbHFwndcROqg+UFMvrY/PoNNKdAF0LKg1fxe4xare/dtG+d+4r5Y6JCCEgwJfnYVbU/842Jdmg3OtXBjvP41yoFJjYjR235lHPCJTRTzm2cjqTttzkrVERKlSvQo069Sgd78nlS57cvvecCEVRHEbPYcHgRhTWZBpWZWtdfJwnLwPVWyL1jDCzKEypip3pVf0yE5dKxf2g6dJrbOyQi3WWNGBzIBRiubanE11V1eyk4zvW9plLqwLas7Qc7yvLmP33ubRiwdIB89BznEve1Ug2RIKkzcJOMW77fPZrLChYZCGXu32bsy2an+ebIe4iCAgCgoAgoCKQNiBviPtFJlXXTsijxHdbVxzmSllkwXzMIe6MqpghO7n3erq2WKrOFly6G1vc5uGQ7ImP82HzoG78dFlSJPo4rrrM+tYFIc4Tl3adWS6FQBjWZazLMGqZaJoPO8/iEZvU7bVRZ8I1L1uNr6z0QZlIomrfpDobqqbunOYfMk5PsGfQPunPmiw470b3khB2diwtB3oQDJjVn8rOtX2pnLxLIeQ807oNxO25dI0tYw8fYlTl1PtEPjjGb/tPcts7ErlpUSrVaYVz1/pEbm1B+2VSIGg+em65yk+Ncn/bQw6EAgT/OYcm1/5AHWYBbarvZ1UDi3RrRxmLhdRRzp5IkFw4by7PosmNiykFqbrV+o1F9XJfTYlvsyAgCAgCgsCnIiDn1jIHOrkGqW5Qa8pJtg0og1GydzoxkN3DGjD5jEom0HHjaZY20ewpVCSSmCd1kg7ZP5Ba48+rDXXejM/cBmky9fq59aDR9Bvqzwfu4vmU6mm9BpnoYkoCpTeP+MNTtdeSPKWq09A2uRqu9BYbw7HxVRkuVXClOgvO71IJhdS8C1B9zmn29tKua6Pk8tzy9NqmNqLhosts62yNMuQh5++q2eQpWZWGduYpc6wy+hHrBn3Pkr+ksi0NWXliE9/n/soDORIKBJ1l5O65HFYVlwEKjOFyVyfeLbqXLBb+4EqcJupCdUF2RYJUSCiQvXucGReqiU/Qrc+6LvNpWTgTIy1OEQQEAUFAEPjHEJDfWUMT5+W8UC3q92a160C+K2GBYVIkr+7sYKKzK9elF3frrmw4+hNNCkJihC8P7j4nVMeCsvaVVVkJI05O4LuhB1VJi6g9igMr+lHJyhj9PErio15xYVUfBm+R3r51sBzlzo0xX8Obk8z4wRVp1+Q7R2Ik/k8CkVI4ULAkFQrlo/qY7cxzLAj31lGnwy/qBE7NZ+A+/XvsrEzQU8Tw2usYiwfPwiMEdAr3Y+fpKUi12bzW1qfVkiBVAqdCXZezZ2IzSpgboJMkRxb6DPdpbZijEkRGtFh5lrVtrZDfduG7rqvU92k6kV0T21DSyhhkwfj/sYpRM48RgA7WbVw47NKcd1JD5MIo50woEMrpnf0ZGhyeUpipX0MXplazyCDQRI73xcWMfXCR+yqxkAORgJwwz/X0O+eeUpDKutAsPLo75F5561yAK5oQBAQBQUAQyAQBpS/7hvZm1h+vkCmgWKPeDG5XDyuFJ0dXbcTDT52V0H6MC3sG2qvml6DDw+g45jQBUlbC9QdY1axgmjLtSintc79p9G1YCnNdOcEPDuK6/BA+Uj0lq4r0X+nGOGn2lofg/ThYXScl/RF6hhn9XFVF+3D6iSN9KpO3sB120tKD/AGbewzll1tS0GI+KnUeRt+GdhjHeXNq40oOSOmWJZvHrWVPv0oqm+X3ttJlyHI8A2PBsBRtRoyhi70V+ooIfK/uxXX9edWkb1KiKbO3r6aj5HBIcx99bOp2pk3DUuB3AY/9V/GV+lPEnnGr3egvBWB+giOHQgFk99fT/awbd5PXavJ1w71Lf2oVyKiKY7JYuEWcWZs0BZ6y0rf4CE+2uI9jYYzGm6BTgvEOaxj5tdjukBWO4lxBQBAQBP4pBORe7kyftZELD/0Jikl2U0vW6WBcqBRl6vRh6cIeKVkJvdY3wGlRILG6+SgxYQ8XB6kzA0uBf2OWncH3pT9B4XJ1+mXNoWtUgKKlbKjVbgITB9b8+IuldmG4DIIo5V5uTJj4K9fT30uqMVGoJKVq/cDin1Ntlqoee7tNY8qOW/i/DOBNun7qm1pRwqY09frNY0Y7m5QXbuk+kyZt4+qztGx08ppjXbIkdfosZFGPtBVoc3NccywUUL7k8O9jmRwcrHbPSGtMZX9iWeN6lDDJaPuBtAyxlxDb7ilVILPSIaUsgPN//MTYJw81sQmGlCj0Izu6NscmpwWpsmKIOFcQEAQEAUEgVwnIX5xnx0Y3TjyOIlEeizyPEQZ5jSjXpDeDezTCRitOT5o8p8w8jJ9RWXpMm42TberbtMz3Kgf27uTUrXBikyMOdfUwK16DNr374FQlg/LrGfVEuzBcW3UwY/rj3XvpoGdaAPumPXHuUJdimp0L2tdF3DvGDveDXPGOIlGjiXT0jCjwVSO69u6Eg3ZHNRcmszmVfE0eHYysquHYswdd6xZ973bR3BignAsFyTPy7ABjTq7DIyX+wIIOVecwvmYlihnn3l7FxJhAHtxez7hb51Q5waXDxLAes5vPoXO65Bm5AUe0IQgIAoKAIPD5CUjl1WWRr4jQLYpVQWPeW4k9ToZM9wOfS1sYZZpFBcMPnJcbXUy5V16MTTO5BCCXIdOE7eU1NkY/M9Nl8jU6eTH+QIn63OhSchu5IhRU7pSL8xl69zxPEpP3PFrTrfo0hlQpT6kChu/PopWp3iiJjXjJPc/fmO15igfJFSv1SuD09Uxmf2eXsn81U82JkwQBQUAQEAQEAUEgUwRySShI20FCuXJsOpOePuRFyqKQBY5lB9G/5jdUsCxC/kyKrDSWy6MJfOPD1Zu7WfvkWoonAZ1C1Cs7jhUt6lBILDlkarDFSYKAICAICAKCQFYJ5J5QkO4c58uBYwtY/tIbP0VKNiXMjRwZWb81dSytKWxqQcF8edH5UOnpJCXyt+G8iXnDq5C7HLiyhd/eSvtm1Ie+bhG+KtaNZS3aY5f7uSWyylCcLwgIAoKAICAI/GcJ5K5QUImFl3icWcJqfy984lNTN0sf2Zo60qJ8HWqVsiS/rhnmBobkRR8DQ10S4+JQoOBtQjRRiTEE+d3kss9ljkS+1AQtSi3kwcygNDVLdGdmY8c0gS3/iBFKUhD75iUvgiKRqZZg8mCcvxBFihXGNKNNIJ/d6ARCfR4RV/gbiplm/uZKKdpGV/fD4i7zzX34THkUr5/7EvjWAjv7YmmzbEqf+foTJFOglNgWKErJ4pYY6ubWzUU7goAgIAgIAukJ5L5QkO6gjOL+pfUs97vLg/CXBCpTvQtqA/Qopl+RqpaFKYAZhQrnI+b1a94Sy8swbx7EB6lSXGof+joWlCpQikalBjKyXkXM/2nLDUkJhD+5w+WzZ/jzQRDh6KCTKCe/RVmqNm1L429tsUiuO/5/ew5f4zHcGb++ZxheI7NGxOB35T5UrkOp/Jm9JjvnKYgLeYHfo5tccv+d7fcbsfbcSConN6WMIfDaUfYdusLjtzokKRXkt6hIw06dafy15SeN+M1Ob8Q1goAgIAj8Vwh8GqGgoSMLuMaBm7vZG/qaVzFBBCm098ZmDqGBbgGKmhbBtmAD+lRrT7130z5mrqFPfJbizS22zV7G5QKO9O3aFPvSBdGPecmNE7+z88QrvhmzgMG1C5Lm5VepQCHFc+joopsu2jXlLT7p3XOUCgVJSZAn3Vu+9H+pLR2UKFRLP3nQTZOA/D1CISn5/HRtqv5/izXNpsDPJxlWI317kGxLRn3IGvIQ7mzawIF7iVQo85Y1B4unEQqKwBMsnHQAg/Zj6NvchnzxQdzY9jOuPvVZsqIXpSQRJvFEzVLil6Td/+Q+5smDbnrYGRmaPDbvMEw9Oc04qJiTjjeQwvZddlnjI84WBAQBQeD/Q+CTCgVVl5SxBHtdw+PJSY5HhREhCycyLpooRayqBOe7hx5muqaYGppRMJ85pfPXoE2F1jS2sUD/n+ZFSDE+gZdu4xhxoTaLVzhjp1V6HGJ57jaVKQ8dWTO3JQUlQZCUQITfU/xCYkjKk4d4RV7MrUtQulQB8qpiN6S3+GfolbMg5lUgsQkK3uqZUdrWBqPQZzwLjQd5AgojK8pVLIs6t1UCr/++TXyxyui98uZVHOgmKtHNb01p2xKYqQJJ3xUKStlrnvm8JDReBwPkyA0ssbGzwSqfLsQF4XX/NDsmbIO+i+lY0QrbGiXUywEKGcFPn+IXnoC+ThJxeQywLmlLqUJG2dzh4oPHknvY9e+A3bNVfDcBLaGgIPD3EYx+MYDtE6tjlCwIYm7jvuo2pQcPoIYlyAP/5oasCBXyBOEbFkdCAhgVtsHWOoEXT4J4K08kLlGXAiXtsC1m8h47FcS+forPy3AS0UdHAXlMC1KqnA3myctHKX2PR183D0q9ApS2MSLgQQKl69mkLJckhPny3C+MqMTksbCkVFkbzP/vnqX/z4+NuKsgIAj8ewnkSZLkwmc45KEvueN7k/uBPtyPf0mAXHoD1D500NXPT2UDW+yKVKJ2qa+xsczOVonP0BntWyT5srfvMB732MF0KQd4+iPsHn+cf4td29oU11ci87/C3g37uBFnQskC+oQGhaIwrUr7oV2oX1yahu+w2sEV5YDviHnoh26etzzxe0WJVs5UD7rMhTBDzOJf89AnkeZzl/KDqvyYWgTcqjme4l7neJbPjHwxIfhF5KfBgJF0rSm559MJBXk4T45uYfOpFygtrbBQRvH0VSKVOw+lX/NyGEf9xe+r3Tl6xhPsHfjashqdp7WkNHIiHpxg5+bjPNS3ppSJnNevXmFYviuD+zdT5VzP1qHyrgA30wuFEI6P6Idfjx10sPQjIEpapMqHWf5ClC1TGCONmyZs/yjaXf+aaYV9uRStT2KwHy8Sa9C9rQEPLjxHxwQCfZ8TXrI3S6c5YpmB8FRGP+HshpXseZoPm2Jm6MeG4/06ie9GzaH311JJOSXRXkfZtOIAj42LUlYav3Aj6n5rxAlXGK5ZLlHGBHB191qO3JWjZ6Uei4BoE2p1HUbXBkVTC95kC5S4SBAQBASBz0vgswmFd7oVF6vK651y6OhhbPQvEAbpOxJ3iV9abqbMtm04lfrI4CnfcGn2ENYZjcBlUiMspIkxNoA/lo1nU9IINk6rh3EeSShM5r7zCpb1rYCRDgTtGUWntdEMWbWGnpWlwuZhXJzZh2XFFnBwqLSSrxYBrtEtmbVkHN9KpVWVsXjvnsS4k1+zct0AyhimFQpxPjuZOv0m9WcvoEMFtRsk9PwSxq56y5ANs6irKsQp2TIBlmjFNcQ9Yff4GdxpMJNZndT2EXSelRNWEdFnE7MaF8gAguRF8SXcoBilCht/2OvwjlC4w/pmq9Af1xm9K6e4Hi3FfyQQr1eC7/v1w1ETo6ASCtstmbthprq0rOwa63pO50jlifw611HFWv5oM8OH+dBt/0IyMlPutZ/Fu8JoPlztpZA8QneW9eDH+ImcmvIt+so3/DGpH9usfmT5eM34yR6xb9pMXO82YJVKKCgJPTOHkVuNGLlssnosiCXo2EpGblEwbvM0an/SeI/P+wMi7iYICAL/fQL/P6HwX2EbepyZnQ5TY+faj5f4jD7Hou+3UW7TdjqW1QLgtZUfRoQw6shEahhKk/NCCqzfTQ87zTnvTJ6gmhj9+3JpTNUUoXCwzkY29Sqd2nDURRZ2ccXGZQ/d7NIKhWebuzDwSSdW/lBFKxgwiLOzF5I45jCjvpV87RkIBe9tdB/5mB6LemOn5UZ/fWw2sxPHcGrStxkEFwZwevJUjpQey+LB9mSQ1TTV5gyEwmqHmVyxrYLTkPG0t5fiP3y5+NvPuNyuxs8ug7E11vDw7MSpuQ1Qyx51fy822cHiDsllRaX+bKXU7y60eU+lUWV8DOFh4URHxxCfqCDg1BJm+XTg0Op2FFSN326q7FxHK61yrrFnpuM431qzXCLj4sx27LDdxAbtMrLKJ+zqPoKAkYcZV/8fsQ3mv/INFP0QBASBT0xACIWcAlbeYWPrn8m7dCe9K2XgEVHEIYtRkNfUGP3gQ0zs7k2XUxOooX1qyCEmdjlLA9UElsFklkmh8LijB+Mba0/Dz3HvPpDgcZJHIK1QuL+iKRNuV6Fm4bSTVmRkGCU7/8y4ptIrdQZCQbJl1k3qVyqcVhDERvPCujMrpjvw7gtzAH/MWYZHiZ7M71dNM5G/B/w7fb3LumbjuNlrE5t+0KrfHnsN147zMV50hL5V0gun7AkFRbgvd2//jZdvAGEBAUQqlLx6ep+7+furhcLr94xfGpvVnJ87n2Lkt9rLMGGcHtWF0420hUtOHz5xvSAgCAgCn56AEAo5ZhzEHxMGsr/iIhb9UAHjdPv6455f5NhtIxp8XxPLqBPM7HyeRnsX0lgrnEHp58bwAffovPtnGhfMvlC45LiLRe1UPnP1kXCLtR3mkPfnw/SvklYoeK1pzbTIocxvWxbt/FdJSshbtBylVfEhGQiFu+tpMTuSibPbUly7r0qlqqxqaduCOduu+I5QeM6+HwZx3/kgsxy1MmwpnrK79zDCfzzJkGq5IxTeHP6R/nuN6dC9Dd+WK07hooWQnRhLlz+aqYVCqDR+56j3+wKaW6d2Pu7CzzSbbaLxKIRxZnxXrjjsZVZrLcmkfMHBQQO42+l3ZrXIIJYlx8+haEAQEAQEgU9DQAiFXOAadXEpQzfI6Dy2Hw0rWmNmoEceZQKyIH+u7ZzP+ug+rJ/ngIXSh119puDXZSXDmhdDVTskIZzn+xcy9nwtXNd1pLhqck7nHs+kR2Fr4Qm4jG5KMTNdUMYRemMr0xeE0HPrTOoXTCsUQk9Ooe/xSqyY2QkbqR5HHpCH+/HIO4FiVW2xUDka7rOxxRiiph1hzLcG6u1/QWeYNeg4VX6eRpuvCmIovTQnhPPywVPii39NWascutXf6asc782DmPOyM4tGNaWoeV50EmWEPNrL0ql/0sB1Ha1tckcoPHRpznzdX9g6rLJqB4oy7g2em8Yx+pFm6UHpg3v/ydx1mMnwtnZYmuYhIew1njtnMflwjZSdGs939GX6084sHtOMYlLu8qQEop7sZ/HE83y7XG2vOAQBQUAQ+LcQEEIhN0ZKGcafrvPY+tCSuu3qYmdlin58GP6XjnL8uRntx8+kjaYMatDJBUw9oEOrni0pI2VIjLjLqV03MOs1h6H1pDfN7AuFXYkNcGjbnGrFDSExhJs73LhTfgS/DJXc/el2PUTdZtuUrQTVaEfjb6yQNEC05z7cL5nTY8mPfKt66Q3iwuQxHC7ci441y1Gxth3melHcXTud7a+r0bxtVXWtjTBPTuy6jKnzIkY0yOHbcgaiiMAzLJ2xF0WDbjSuXAA9mT9/uu/lXulBLBpbDzPJhDQxG9lbenh5cCyTz5ShT78GquBHRehjLv6+kwMGmqUHIOqKC9N/fUl5B0dqldMj+tE97nr+zf7bX6du6dTYS5OeNKlgBspwvI/s4rxZrxR7c+OxE20IAoKAIPA5CAihkFuUlWF4H97B9it+RMYpSNLRxaRwVdo7d+Rb7URRylien1zLupMviFEkkcfAhMpNBtC/pY3GZe/DwbHHsZ4xSjNZA177GbUOxi7vQHKoYtRFF6YHt8Slk1QjXSMCuu2k2oNl7HwYTxIGmFduyahejbBWRfeF8eeK+QS1/IX25dWdlr+4wt5th/kzJB6FlFzIqASt+wyguTS5aQ651xFct5znaVwFBi4YwDeS9z82gD/3bMP9zhvipT7oGvBVoz788H0FzLK5OzLlhhn0Vfos1uc427ef535UPEl5DDAv24ihA1tSXJO3Ii2P1P7erTaNISniJQO22uMf68sfa9dy0FfNw8DqOzrXeMnvXtX5aYxakEhH1P3jHDh1m6BYsKjUgc5Fz9B6knbuB7W9mzed4fFb6Vl4197ceuxEO4KAICAIfGoCQih8AsJyWSyJeY344G5PpZzY2ET0jIwyV4f8g3am9RbIY2NJ1DHCKLPJfeJjiVXqYfQBg+Vy0E8fq5mrfcjcQKj6pvcRtplr6v1nvZeHguiX3rxSFqNcCTN0peAOKYHW6YV8v6Y4Ww72o1y6VjP1LOTUXnG9ICAICAKfkIAQCp8Q7udrOjt1HD6fdf+dO8XivXMGrs9r0q1VBQoY6pAQF8LfB3ZyteQwlg38yI6O/w4I0RNBQBD4gggIofCfGOx3lxX+E936J3bizW3cN+7mQqCCQqrMjAkY2jRl5NDUZZB/otnCJkFAEBAEsktACIXskhPXfdEEVEsgUtppaRkks0s8XzQx0XlBQBD4txIQQuHfOnLCbkFAEBAEBAFB4DMQEELhM0AWtxAEBAFBQBAQBP6tBIRQ+LeOnLBbEBAEBAFBQBD4DASEUPgMkMUtBAFBQBAQBASBfysBIRT+rSMn7BYEBAFBQBAQBD4DASEUPgNkcQtBQBAQBAQBQeDfSkAIhX/ryAm7BQFBQBAQBASBz0BACIXPAFncQhAQBAQBQUAQ+LcSEELh3zpywm5BQBAQBAQBQeAzEPgfu7Of7P1oJ48AAAAASUVORK5CYII=)"
      ],
      "metadata": {
        "id": "ZnyY6Vk1u-aa"
      }
    },
    {
      "cell_type": "markdown",
      "source": [
        "# ***Четвертая часть. Градиентный бустинг***"
      ],
      "metadata": {
        "id": "Pbvx5wfqqBpy"
      }
    },
    {
      "cell_type": "code",
      "source": [
        "!pip install catboost"
      ],
      "metadata": {
        "id": "l3FGtrKarPt7"
      },
      "execution_count": null,
      "outputs": []
    },
    {
      "cell_type": "code",
      "source": [
        "from catboost import CatBoostClassifier, Pool, cv"
      ],
      "metadata": {
        "id": "iNI-atAlkwWs"
      },
      "execution_count": null,
      "outputs": []
    },
    {
      "cell_type": "code",
      "source": [
        "datapool = Pool(data=data.drop(target_col, axis='columns'), label=data[target_col], cat_features=cat_cols)"
      ],
      "metadata": {
        "id": "U91P6UxUsHeo"
      },
      "execution_count": null,
      "outputs": []
    },
    {
      "cell_type": "code",
      "source": [
        "fix_params = {\"iterations\": 100,\n",
        "              \"loss_function\": \"Logloss\",\n",
        "              \"custom_loss\": \"AUC:hints=skip_train~false\",\n",
        "              'eval_metric': 'AUC:hints=skip_train~false',\n",
        "              \"verbose\": 0}\n",
        "\n",
        "params = {\"depth\": [2, 3, 4, 5],\n",
        "          'learning_rate': np.linspace(0.01, 0.1, 20),\n",
        "          'l2_leaf_reg': [3.75],\n",
        "          'min_data_in_leaf': np.arange(1, 4) \n",
        "          }\n",
        "\n",
        "cat = CatBoostClassifier(**fix_params)\n",
        "scores = cat.grid_search(params, datapool, cv=10)"
      ],
      "metadata": {
        "id": "qob3M5AysIag"
      },
      "execution_count": null,
      "outputs": []
    },
    {
      "cell_type": "code",
      "source": [
        "fix_params['iterations'] = 300\n",
        "kitty_cat = CatBoostClassifier(**fix_params, **scores['params'])\n",
        "kitty_cat.fit(datapool)\n",
        "roc_auc_score(data[target_col], kitty_cat.predict_proba(datapool)[:,1])"
      ],
      "metadata": {
        "colab": {
          "base_uri": "https://localhost:8080/"
        },
        "id": "-Yrqm6wYtb9U",
        "outputId": "24a20ff9-4f12-4a13-9356-29405287887b"
      },
      "execution_count": null,
      "outputs": [
        {
          "output_type": "execute_result",
          "data": {
            "text/plain": [
              "0.8804438972890865"
            ]
          },
          "metadata": {},
          "execution_count": 66
        }
      ]
    },
    {
      "cell_type": "code",
      "source": [
        "submission = pd.read_csv('submission.csv', index_col='Id')\n",
        "submission['Churn'] = kitty_cat.predict_proba(test_data)[:,1]\n",
        "submission.to_csv('Annanas_cat.csv')"
      ],
      "metadata": {
        "id": "X5V8_it-sOhv"
      },
      "execution_count": null,
      "outputs": []
    },
    {
      "cell_type": "markdown",
      "source": [
        "![cat.png](data:image/png;base64,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)"
      ],
      "metadata": {
        "id": "sewRXOfvu0jk"
      }
    }
  ]
}